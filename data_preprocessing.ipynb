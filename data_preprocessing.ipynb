{
  "nbformat": 4,
  "nbformat_minor": 0,
  "metadata": {
    "kernelspec": {
      "display_name": "Python 3",
      "language": "python",
      "name": "python3"
    },
    "language_info": {
      "codemirror_mode": {
        "name": "ipython",
        "version": 3
      },
      "file_extension": ".py",
      "mimetype": "text/x-python",
      "name": "python",
      "nbconvert_exporter": "python",
      "pygments_lexer": "ipython3",
      "version": "3.7.7"
    },
    "colab": {
      "name": "data_preprocessing.ipynb",
      "provenance": []
    }
  },
  "cells": [
    {
      "cell_type": "code",
      "metadata": {
        "id": "ANHcCV25Yues"
      },
      "source": [
        "import pandas as pd\n",
        "import numpy as np\n",
        "import os\n",
        "import shutil"
      ],
      "execution_count": null,
      "outputs": []
    },
    {
      "cell_type": "code",
      "metadata": {
        "id": "LRD32dXBYue8"
      },
      "source": [
        "df=pd.read_csv(r\"D:\\Deep_Learning\\Plant Pathology Kaggle\\test.csv\")"
      ],
      "execution_count": null,
      "outputs": []
    },
    {
      "cell_type": "code",
      "metadata": {
        "id": "Vo1ikqg1Yue9",
        "outputId": "bdad9722-8965-495a-e853-d4c427fdd754"
      },
      "source": [
        "a=np.zeros((1821,5))\n",
        "a.shape"
      ],
      "execution_count": null,
      "outputs": [
        {
          "output_type": "execute_result",
          "data": {
            "text/plain": [
              "(1821, 5)"
            ]
          },
          "metadata": {
            "tags": []
          },
          "execution_count": 83
        }
      ]
    },
    {
      "cell_type": "code",
      "metadata": {
        "id": "xTbXb4aIYufC"
      },
      "source": [
        "source=r\"D:\\Deep_Learning\\Plant Pathology Kaggle\\images\\Test_\"\n",
        "dst1=r\"D:\\Deep_Learning\\Plant Pathology Kaggle\\data\\healthy\"\n",
        "dst2=r\"D:\\Deep_Learning\\Plant Pathology Kaggle\\data\\multiple_diseases\"\n",
        "dst3=r\"D:\\Deep_Learning\\Plant Pathology Kaggle\\data\\rust\"\n",
        "dst4=r\"D:\\Deep_Learning\\Plant Pathology Kaggle\\data\\scab\""
      ],
      "execution_count": null,
      "outputs": []
    },
    {
      "cell_type": "code",
      "metadata": {
        "id": "Ql36DH-YYufD",
        "outputId": "adf7dce0-4865-4ad0-a6af-b685ff53154c"
      },
      "source": [
        "print(source)"
      ],
      "execution_count": null,
      "outputs": [
        {
          "output_type": "stream",
          "text": [
            "D:\\Deep_Learning\\Plant Pathology Kaggle\\images\\Test_\n"
          ],
          "name": "stdout"
        }
      ]
    },
    {
      "cell_type": "code",
      "metadata": {
        "id": "umbjT5ayYufE"
      },
      "source": [
        "for index,rows in df.iterrows():\n",
        "#     print(rows[\"healthy\"], index)\n",
        "#     print(index)\n",
        "    a[index]=[index,rows[\"healthy\"],rows[\"multiple_diseases\"],rows[\"rust\"],rows[\"scab\"]]\n",
        "    category=np.argmax(a[index,1:])\n",
        "    if category==0:\n",
        "        shutil.copy(source+str(index)+\".jpg\",dst1)\n",
        "    elif category==1:\n",
        "        shutil.copy(source+str(index)+\".jpg\",dst2)\n",
        "    elif category==2:\n",
        "        shutil.copy(source+str(index)+\".jpg\",dst3)\n",
        "    if category==3:\n",
        "        shutil.copy(source+str(index)+\".jpg\",dst4)\n",
        "print(a[0:10,:])\n",
        "print(np.argmax(a[0:10,1:], axis=1))"
      ],
      "execution_count": null,
      "outputs": []
    },
    {
      "cell_type": "code",
      "metadata": {
        "id": "u7v_bhxeYufF"
      },
      "source": [
        "for index,rows in df.iterrows():\n",
        "#     print(rows[\"healthy\"], index)\n",
        "#     print(index)\n",
        "    shutil.copy(source+str(index)+\".jpg\",r\"D:\\Deep_Learning\\Plant Pathology Kaggle\\data\")"
      ],
      "execution_count": null,
      "outputs": []
    },
    {
      "cell_type": "code",
      "metadata": {
        "id": "uNVbOx7WYufF"
      },
      "source": [
        ""
      ],
      "execution_count": null,
      "outputs": []
    },
    {
      "cell_type": "code",
      "metadata": {
        "id": "HFO9xXWpYufG",
        "outputId": "8c037eca-7b56-484b-af3d-f720fc4f5147"
      },
      "source": [
        "files=os.listdir(source)\n",
        "files"
      ],
      "execution_count": null,
      "outputs": [
        {
          "output_type": "error",
          "ename": "NotADirectoryError",
          "evalue": "[WinError 267] The directory name is invalid: 'D:\\\\Deep_Learning\\\\Plant Pathology Kaggle\\\\images\\\\Test_0.jpg'",
          "traceback": [
            "\u001b[1;31m---------------------------------------------------------------------------\u001b[0m",
            "\u001b[1;31mNotADirectoryError\u001b[0m                        Traceback (most recent call last)",
            "\u001b[1;32m<ipython-input-57-df6cb07b2d2e>\u001b[0m in \u001b[0;36m<module>\u001b[1;34m\u001b[0m\n\u001b[1;32m----> 1\u001b[1;33m \u001b[0mfiles\u001b[0m\u001b[1;33m=\u001b[0m\u001b[0mos\u001b[0m\u001b[1;33m.\u001b[0m\u001b[0mlistdir\u001b[0m\u001b[1;33m(\u001b[0m\u001b[0msource\u001b[0m\u001b[1;33m)\u001b[0m\u001b[1;33m\u001b[0m\u001b[1;33m\u001b[0m\u001b[0m\n\u001b[0m\u001b[0;32m      2\u001b[0m \u001b[0mfiles\u001b[0m\u001b[1;33m\u001b[0m\u001b[1;33m\u001b[0m\u001b[0m\n",
            "\u001b[1;31mNotADirectoryError\u001b[0m: [WinError 267] The directory name is invalid: 'D:\\\\Deep_Learning\\\\Plant Pathology Kaggle\\\\images\\\\Test_0.jpg'"
          ]
        }
      ]
    },
    {
      "cell_type": "code",
      "metadata": {
        "id": "bGlgGsRLYufH",
        "outputId": "ae5b631f-cb76-45dd-94e9-71d9d8a07a72"
      },
      "source": [
        "shutil.copy(source,dst1)"
      ],
      "execution_count": null,
      "outputs": [
        {
          "output_type": "execute_result",
          "data": {
            "text/plain": [
              "'D:\\\\Deep_Learning\\\\Plant Pathology Kaggle\\\\data\\\\healthy\\\\Test_0.jpg'"
            ]
          },
          "metadata": {
            "tags": []
          },
          "execution_count": 60
        }
      ]
    },
    {
      "cell_type": "code",
      "metadata": {
        "id": "lfNMTgU9YufI"
      },
      "source": [
        ""
      ],
      "execution_count": null,
      "outputs": []
    }
  ]
}