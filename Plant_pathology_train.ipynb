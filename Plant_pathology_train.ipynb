{
  "nbformat": 4,
  "nbformat_minor": 0,
  "metadata": {
    "kernelspec": {
      "display_name": "Python 3",
      "language": "python",
      "name": "python3"
    },
    "language_info": {
      "codemirror_mode": {
        "name": "ipython",
        "version": 3
      },
      "file_extension": ".py",
      "mimetype": "text/x-python",
      "name": "python",
      "nbconvert_exporter": "python",
      "pygments_lexer": "ipython3",
      "version": "3.7.3"
    },
    "colab": {
      "name": "Plant_pathology.ipynb",
      "provenance": [],
      "collapsed_sections": [],
      "toc_visible": true
    },
    "accelerator": "GPU",
    "widgets": {
      "application/vnd.jupyter.widget-state+json": {
        "eb3ea32e90fd436fbed5ac4771e8f6a9": {
          "model_module": "@jupyter-widgets/controls",
          "model_name": "HBoxModel",
          "state": {
            "_view_name": "HBoxView",
            "_dom_classes": [],
            "_model_name": "HBoxModel",
            "_view_module": "@jupyter-widgets/controls",
            "_model_module_version": "1.5.0",
            "_view_count": null,
            "_view_module_version": "1.5.0",
            "box_style": "",
            "layout": "IPY_MODEL_536b28b40df749b98bb3a114123d9238",
            "_model_module": "@jupyter-widgets/controls",
            "children": [
              "IPY_MODEL_9535692b49704c17bdf9dc91a3c5d484",
              "IPY_MODEL_863fc29942594ddb835b4409f4e423b8"
            ]
          }
        },
        "536b28b40df749b98bb3a114123d9238": {
          "model_module": "@jupyter-widgets/base",
          "model_name": "LayoutModel",
          "state": {
            "_view_name": "LayoutView",
            "grid_template_rows": null,
            "right": null,
            "justify_content": null,
            "_view_module": "@jupyter-widgets/base",
            "overflow": null,
            "_model_module_version": "1.2.0",
            "_view_count": null,
            "flex_flow": null,
            "width": null,
            "min_width": null,
            "border": null,
            "align_items": null,
            "bottom": null,
            "_model_module": "@jupyter-widgets/base",
            "top": null,
            "grid_column": null,
            "overflow_y": null,
            "overflow_x": null,
            "grid_auto_flow": null,
            "grid_area": null,
            "grid_template_columns": null,
            "flex": null,
            "_model_name": "LayoutModel",
            "justify_items": null,
            "grid_row": null,
            "max_height": null,
            "align_content": null,
            "visibility": null,
            "align_self": null,
            "height": null,
            "min_height": null,
            "padding": null,
            "grid_auto_rows": null,
            "grid_gap": null,
            "max_width": null,
            "order": null,
            "_view_module_version": "1.2.0",
            "grid_template_areas": null,
            "object_position": null,
            "object_fit": null,
            "grid_auto_columns": null,
            "margin": null,
            "display": null,
            "left": null
          }
        },
        "9535692b49704c17bdf9dc91a3c5d484": {
          "model_module": "@jupyter-widgets/controls",
          "model_name": "FloatProgressModel",
          "state": {
            "_view_name": "ProgressView",
            "style": "IPY_MODEL_bfe9207f91f84f2abaece2fba8c2f85b",
            "_dom_classes": [],
            "description": "100%",
            "_model_name": "FloatProgressModel",
            "bar_style": "success",
            "max": 46827520,
            "_view_module": "@jupyter-widgets/controls",
            "_model_module_version": "1.5.0",
            "value": 46827520,
            "_view_count": null,
            "_view_module_version": "1.5.0",
            "orientation": "horizontal",
            "min": 0,
            "description_tooltip": null,
            "_model_module": "@jupyter-widgets/controls",
            "layout": "IPY_MODEL_926dbad414f94502b9331f8d1b9caf3d"
          }
        },
        "863fc29942594ddb835b4409f4e423b8": {
          "model_module": "@jupyter-widgets/controls",
          "model_name": "HTMLModel",
          "state": {
            "_view_name": "HTMLView",
            "style": "IPY_MODEL_09880c0f2378467a8b8025681b2cb35b",
            "_dom_classes": [],
            "description": "",
            "_model_name": "HTMLModel",
            "placeholder": "​",
            "_view_module": "@jupyter-widgets/controls",
            "_model_module_version": "1.5.0",
            "value": " 44.7M/44.7M [00:00&lt;00:00, 122MB/s]",
            "_view_count": null,
            "_view_module_version": "1.5.0",
            "description_tooltip": null,
            "_model_module": "@jupyter-widgets/controls",
            "layout": "IPY_MODEL_c9245fb4b9474f0c9ee093defc42ee84"
          }
        },
        "bfe9207f91f84f2abaece2fba8c2f85b": {
          "model_module": "@jupyter-widgets/controls",
          "model_name": "ProgressStyleModel",
          "state": {
            "_view_name": "StyleView",
            "_model_name": "ProgressStyleModel",
            "description_width": "initial",
            "_view_module": "@jupyter-widgets/base",
            "_model_module_version": "1.5.0",
            "_view_count": null,
            "_view_module_version": "1.2.0",
            "bar_color": null,
            "_model_module": "@jupyter-widgets/controls"
          }
        },
        "926dbad414f94502b9331f8d1b9caf3d": {
          "model_module": "@jupyter-widgets/base",
          "model_name": "LayoutModel",
          "state": {
            "_view_name": "LayoutView",
            "grid_template_rows": null,
            "right": null,
            "justify_content": null,
            "_view_module": "@jupyter-widgets/base",
            "overflow": null,
            "_model_module_version": "1.2.0",
            "_view_count": null,
            "flex_flow": null,
            "width": null,
            "min_width": null,
            "border": null,
            "align_items": null,
            "bottom": null,
            "_model_module": "@jupyter-widgets/base",
            "top": null,
            "grid_column": null,
            "overflow_y": null,
            "overflow_x": null,
            "grid_auto_flow": null,
            "grid_area": null,
            "grid_template_columns": null,
            "flex": null,
            "_model_name": "LayoutModel",
            "justify_items": null,
            "grid_row": null,
            "max_height": null,
            "align_content": null,
            "visibility": null,
            "align_self": null,
            "height": null,
            "min_height": null,
            "padding": null,
            "grid_auto_rows": null,
            "grid_gap": null,
            "max_width": null,
            "order": null,
            "_view_module_version": "1.2.0",
            "grid_template_areas": null,
            "object_position": null,
            "object_fit": null,
            "grid_auto_columns": null,
            "margin": null,
            "display": null,
            "left": null
          }
        },
        "09880c0f2378467a8b8025681b2cb35b": {
          "model_module": "@jupyter-widgets/controls",
          "model_name": "DescriptionStyleModel",
          "state": {
            "_view_name": "StyleView",
            "_model_name": "DescriptionStyleModel",
            "description_width": "",
            "_view_module": "@jupyter-widgets/base",
            "_model_module_version": "1.5.0",
            "_view_count": null,
            "_view_module_version": "1.2.0",
            "_model_module": "@jupyter-widgets/controls"
          }
        },
        "c9245fb4b9474f0c9ee093defc42ee84": {
          "model_module": "@jupyter-widgets/base",
          "model_name": "LayoutModel",
          "state": {
            "_view_name": "LayoutView",
            "grid_template_rows": null,
            "right": null,
            "justify_content": null,
            "_view_module": "@jupyter-widgets/base",
            "overflow": null,
            "_model_module_version": "1.2.0",
            "_view_count": null,
            "flex_flow": null,
            "width": null,
            "min_width": null,
            "border": null,
            "align_items": null,
            "bottom": null,
            "_model_module": "@jupyter-widgets/base",
            "top": null,
            "grid_column": null,
            "overflow_y": null,
            "overflow_x": null,
            "grid_auto_flow": null,
            "grid_area": null,
            "grid_template_columns": null,
            "flex": null,
            "_model_name": "LayoutModel",
            "justify_items": null,
            "grid_row": null,
            "max_height": null,
            "align_content": null,
            "visibility": null,
            "align_self": null,
            "height": null,
            "min_height": null,
            "padding": null,
            "grid_auto_rows": null,
            "grid_gap": null,
            "max_width": null,
            "order": null,
            "_view_module_version": "1.2.0",
            "grid_template_areas": null,
            "object_position": null,
            "object_fit": null,
            "grid_auto_columns": null,
            "margin": null,
            "display": null,
            "left": null
          }
        }
      }
    }
  },
  "cells": [
    {
      "cell_type": "code",
      "metadata": {
        "id": "3qp0L_0xkDjA"
      },
      "source": [
        "%matplotlib inline"
      ],
      "execution_count": null,
      "outputs": []
    },
    {
      "cell_type": "code",
      "metadata": {
        "id": "3I16ARySkDjH"
      },
      "source": [
        "# License: BSD\n",
        "# Author: Sasank Chilamkurthy\n",
        "\n",
        "from __future__ import print_function, division\n",
        "\n",
        "import torch\n",
        "import torch.nn as nn\n",
        "import torch.optim as optim\n",
        "from torch.optim import lr_scheduler\n",
        "import numpy as np\n",
        "import torchvision\n",
        "from torchvision import datasets, models, transforms\n",
        "import matplotlib.pyplot as plt\n",
        "import time\n",
        "import os\n",
        "import copy\n",
        "from PIL import ImageFile\n",
        "ImageFile.LOAD_TRUNCATED_IMAGES = True\n",
        "plt.ion()"
      ],
      "execution_count": null,
      "outputs": []
    },
    {
      "cell_type": "code",
      "metadata": {
        "id": "M7n2LHYsufoU",
        "colab": {
          "base_uri": "https://localhost:8080/"
        },
        "outputId": "501621e2-1eae-471a-f7e0-422a11139fbc"
      },
      "source": [
        "from google.colab import drive, files\n",
        "drive.mount('/content/drive')\n",
        "\n",
        "# data_dir = '/media/uzair/5CE86067E860417E/plant-pathology-2020-fgvc7/organized_data/'"
      ],
      "execution_count": null,
      "outputs": [
        {
          "output_type": "stream",
          "text": [
            "Mounted at /content/drive\n"
          ],
          "name": "stdout"
        }
      ]
    },
    {
      "cell_type": "code",
      "metadata": {
        "id": "L7JaW7N8b7Fs"
      },
      "source": [
        "data_dir = '/content/drive/My Drive/Plant_Pathology'"
      ],
      "execution_count": null,
      "outputs": []
    },
    {
      "cell_type": "code",
      "metadata": {
        "id": "J9F8bp9lkDjN"
      },
      "source": [
        "# Data augmentation and normalization for training\n",
        "# Just normalization for validation\n",
        "data_transforms = {\n",
        "    'train': transforms.Compose([\n",
        "        transforms.Resize((512, 512)),\n",
        "        #transforms.RandomResizedCrop(224),\n",
        "        transforms.RandomHorizontalFlip(),\n",
        "        transforms.ToTensor(),\n",
        "        transforms.Normalize([0.485, 0.456, 0.406], [0.229, 0.224, 0.225])\n",
        "    ]),\n",
        "#     'val': transforms.Compose([\n",
        "#         transforms.Resize((224,224)),\n",
        "#         #transforms.CenterCrop(224),\n",
        "#         transforms.ToTensor(),\n",
        "#         transforms.Normalize([0.485, 0.456, 0.406], [0.229, 0.224, 0.225])\n",
        "#     ]),\n",
        "}\n",
        "\n",
        "# data_dir = '/media/uzair/5CE86067E860417E/plant-pathology-2020-fgvc7/organized_data/'\n",
        "image_datasets = {x: datasets.ImageFolder(os.path.join(data_dir, x),\n",
        "                                          data_transforms[x])\n",
        "                  for x in ['train']}\n",
        "#                   for x in ['train', 'val']}\n",
        "dataloaders = {x: torch.utils.data.DataLoader(image_datasets[x], batch_size=6,\n",
        "                                             shuffle=True, num_workers=16)\n",
        "                for x in ['train']}\n",
        "#               for x in ['train', 'val']}\n",
        "dataset_sizes = {x: len(image_datasets[x]) \n",
        "                for x in ['train']\n",
        "#                  for x in ['train', 'val']\n",
        "                }\n",
        "class_names = image_datasets['train'].classes\n",
        "\n",
        "device = torch.device(\"cuda:0\" if torch.cuda.is_available() else \"cpu\")"
      ],
      "execution_count": null,
      "outputs": []
    },
    {
      "cell_type": "code",
      "metadata": {
        "id": "d8Ogfa97kDjR"
      },
      "source": [
        "my_test_data=torchvision.datasets.ImageFolder('/content/drive/My Drive/Plant_Pathology'\n",
        "                                             , data_transforms['train'])"
      ],
      "execution_count": null,
      "outputs": []
    },
    {
      "cell_type": "code",
      "metadata": {
        "id": "0wFj7XIkEh8v",
        "colab": {
          "base_uri": "https://localhost:8080/"
        },
        "outputId": "2f942deb-3a92-4e76-8ffc-d3b55ad9dd36"
      },
      "source": [
        "type(my_test_data)"
      ],
      "execution_count": null,
      "outputs": [
        {
          "output_type": "execute_result",
          "data": {
            "text/plain": [
              "torchvision.datasets.folder.ImageFolder"
            ]
          },
          "metadata": {
            "tags": []
          },
          "execution_count": 8
        }
      ]
    },
    {
      "cell_type": "code",
      "metadata": {
        "id": "j3iABeFMkDjX",
        "colab": {
          "base_uri": "https://localhost:8080/"
        },
        "outputId": "8d2ddf6e-12f2-4f9e-c5cd-f1dd41a94e7f"
      },
      "source": [
        "len(class_names)\n",
        "print(len(image_datasets['train']))\n",
        "# print(len(image_datasets['val']))\n",
        "print(dataset_sizes['train'])\n",
        "# print(dataset_sizes['val'])"
      ],
      "execution_count": null,
      "outputs": [
        {
          "output_type": "stream",
          "text": [
            "1821\n",
            "1821\n"
          ],
          "name": "stdout"
        }
      ]
    },
    {
      "cell_type": "code",
      "metadata": {
        "id": "1n17JAvWkDjc",
        "colab": {
          "base_uri": "https://localhost:8080/",
          "height": 120
        },
        "outputId": "02633e0f-5ab8-43ee-b7df-4a5efcf664c5"
      },
      "source": [
        "def imshow(inp, title=None):\n",
        "    \"\"\"Imshow for Tensor.\"\"\"\n",
        "    inp = inp.numpy().transpose((1, 2, 0))\n",
        "    mean = np.array([0.485, 0.456, 0.406])\n",
        "    std = np.array([0.229, 0.224, 0.225])\n",
        "    inp = std * inp + mean\n",
        "    inp = np.clip(inp, 0, 1)\n",
        "    plt.imshow(inp)\n",
        "    if title is not None:\n",
        "        plt.title(title)\n",
        "    plt.pause(0.001)  # pause a bit so that plots are updated\n",
        "\n",
        "\n",
        "# Get a batch of training data\n",
        "inputs, classes = next(iter(dataloaders['train']))\n",
        "\n",
        "# Make a grid from batch\n",
        "out = torchvision.utils.make_grid(inputs)\n",
        "\n",
        "imshow(out, title=[class_names[x] for x in classes])"
      ],
      "execution_count": null,
      "outputs": [
        {
          "output_type": "display_data",
          "data": {
            "image/png": "[encoded data removed]",
            "text/plain": [
              "<Figure size 432x288 with 1 Axes>"
            ]
          },
          "metadata": {
            "tags": [],
            "needs_background": "light"
          }
        }
      ]
    },
    {
      "cell_type": "code",
      "metadata": {
        "id": "Xk53_zsCkDjm"
      },
      "source": [
        "def train_model(model, criterion, optimizer, scheduler, num_epochs=25):\n",
        "    since = time.time()\n",
        "\n",
        "    best_model_wts = copy.deepcopy(model.state_dict())\n",
        "    best_acc = 0.0\n",
        "    train_loss, val_loss, train_acc, val_acc = [], [], [], []\n",
        "    \n",
        "    for epoch in range(num_epochs):\n",
        "        print('Epoch {}/{}'.format(epoch, num_epochs - 1))\n",
        "        print('-' * 10)\n",
        "\n",
        "        # Each epoch has a training and validation phase\n",
        "        for phase in ['train']:\n",
        "#         for phase in ['train', 'val']:\n",
        "            if phase == 'train':\n",
        "                scheduler.step()\n",
        "                model.train()  # Set model to training mode\n",
        "            else:\n",
        "                model.eval()   # Set model to evaluate mode\n",
        "\n",
        "            running_loss = 0.0\n",
        "            running_corrects = 0\n",
        "\n",
        "            # Iterate over data.\n",
        "            for inputs, labels in dataloaders[phase]:\n",
        "                inputs = inputs.to(device)\n",
        "                labels = labels.to(device)\n",
        "\n",
        "                # zero the parameter gradients\n",
        "                optimizer.zero_grad()\n",
        "\n",
        "                # forward\n",
        "                # track history if only in train\n",
        "                with torch.set_grad_enabled(phase == 'train'):\n",
        "                    outputs = model(inputs)\n",
        "                    _, preds = torch.max(outputs, 1)\n",
        "                    loss = criterion(outputs, labels)\n",
        "\n",
        "                    # backward + optimize only if in training phase\n",
        "                    if phase == 'train':\n",
        "                        loss.backward()\n",
        "                        optimizer.step()\n",
        "\n",
        "                # statistics\n",
        "                running_loss += loss.item() * inputs.size(0)\n",
        "                running_corrects += torch.sum(preds == labels.data)\n",
        "\n",
        "            epoch_loss = running_loss / dataset_sizes[phase]\n",
        "            epoch_acc = running_corrects.double() / dataset_sizes[phase]\n",
        "            \n",
        "            if phase == 'train':\n",
        "                train_loss.append(epoch_loss)\n",
        "                train_acc.append(epoch_acc)\n",
        "            else:\n",
        "                val_loss.append(epoch_loss)\n",
        "                val_acc.append(epoch_acc)\n",
        "\n",
        "            print('{} Loss: {:.4f} Acc: {:.4f}'.format(phase, epoch_loss, epoch_acc))\n",
        "\n",
        "            # deep copy the model\n",
        "#             if phase == 'val' and epoch_acc > best_acc:\n",
        "            if epoch_acc > best_acc:\n",
        "                best_acc = epoch_acc\n",
        "                best_model_wts = copy.deepcopy(model.state_dict())\n",
        "\n",
        "        #print()\n",
        "\n",
        "    time_elapsed = time.time() - since\n",
        "    print('Training complete in {:.0f}m {:.0f}s'.format(\n",
        "        time_elapsed // 60, time_elapsed % 60))\n",
        "    print('Best val Acc: {:4f}'.format(best_acc))\n",
        "\n",
        "    # load best model weights\n",
        "    model.load_state_dict(best_model_wts)\n",
        "    return model, [train_loss, train_acc, val_loss, val_acc]"
      ],
      "execution_count": null,
      "outputs": []
    },
    {
      "cell_type": "code",
      "metadata": {
        "id": "u6Zsqa7LkDjt"
      },
      "source": [
        "def visualize_model(model, num_images=2):\n",
        "    was_training = model.training\n",
        "    model.eval()\n",
        "    images_so_far = 0\n",
        "    fig = plt.figure()\n",
        "\n",
        "    with torch.no_grad():\n",
        "        for i, (inputs, labels) in enumerate(dataloaders['train']):\n",
        "#         for i, (inputs, labels) in enumerate(dataloaders['val']):\n",
        "            inputs = inputs.to(device)\n",
        "            labels = labels.to(device)\n",
        "\n",
        "            outputs = model(inputs)\n",
        "            _, preds = torch.max(outputs, 1)\n",
        "\n",
        "            for j in range(inputs.size()[0]):\n",
        "                images_so_far += 1\n",
        "                ax = plt.subplot(num_images//2, 2, images_so_far)\n",
        "                ax.axis('off')\n",
        "                ax.set_title('predicted: {}'.format(class_names[preds[j]]))\n",
        "                imshow(inputs.cpu().data[j])\n",
        "\n",
        "                if images_so_far == num_images:\n",
        "                    model.train(mode=was_training)\n",
        "                    return\n",
        "        model.train(mode=was_training)"
      ],
      "execution_count": null,
      "outputs": []
    },
    {
      "cell_type": "code",
      "metadata": {
        "id": "xv6O-I4ekDjx",
        "colab": {
          "base_uri": "https://localhost:8080/",
          "height": 103,
          "referenced_widgets": [
            "eb3ea32e90fd436fbed5ac4771e8f6a9",
            "536b28b40df749b98bb3a114123d9238",
            "9535692b49704c17bdf9dc91a3c5d484",
            "863fc29942594ddb835b4409f4e423b8",
            "bfe9207f91f84f2abaece2fba8c2f85b",
            "926dbad414f94502b9331f8d1b9caf3d",
            "09880c0f2378467a8b8025681b2cb35b",
            "c9245fb4b9474f0c9ee093defc42ee84"
          ]
        },
        "outputId": "be5b6323-1b9e-4335-c250-7983d7f38813"
      },
      "source": [
        "# model_ft = models.resnet50(pretrained=True)\n",
        "model_ft = models.resnet18(pretrained=True)\n",
        "num_ftrs = model_ft.fc.in_features\n",
        "model_ft.fc = nn.Linear(num_ftrs, 4)\n",
        "# model_ft.fc = nn.Linear(num_ftrs, 2)\n",
        "# device = torch.device(\"cuda:0\" if torch.cuda.is_available() else \"cpu\")\n",
        "model_ft = model_ft.to(device)\n",
        "\n",
        "criterion = nn.CrossEntropyLoss()\n",
        "\n",
        "# Observe that all parameters are being optimized\n",
        "# optimizer_ft = optim.SGD(model_ft.parameters(), lr=0.001, momentum=0.9)\n",
        "optimizer_ft = optim.Adam(model_ft.parameters(), lr=0.001)\n",
        "\n",
        "# Decay LR by a factor of 0.1 every 7 epochs\n",
        "exp_lr_scheduler = lr_scheduler.StepLR(optimizer_ft, step_size=7, gamma=0.1)"
      ],
      "execution_count": null,
      "outputs": [
        {
          "output_type": "stream",
          "text": [
            "Downloading: \"https://download.pytorch.org/models/resnet18-5c106cde.pth\" to /root/.cache/torch/hub/checkpoints/resnet18-5c106cde.pth\n"
          ],
          "name": "stderr"
        },
        {
          "output_type": "display_data",
          "data": {
            "application/vnd.jupyter.widget-view+json": {
              "model_id": "eb3ea32e90fd436fbed5ac4771e8f6a9",
              "version_minor": 0,
              "version_major": 2
            },
            "text/plain": [
              "HBox(children=(FloatProgress(value=0.0, max=46827520.0), HTML(value='')))"
            ]
          },
          "metadata": {
            "tags": []
          }
        },
        {
          "output_type": "stream",
          "text": [
            "\n"
          ],
          "name": "stdout"
        }
      ]
    },
    {
      "cell_type": "code",
      "metadata": {
        "id": "ERYFOp6EkDj1",
        "colab": {
          "base_uri": "https://localhost:8080/"
        },
        "outputId": "5486f715-55a6-4ea8-b253-9a7c2b9522de"
      },
      "source": [
        "model_ft, info = train_model(model_ft, criterion, optimizer_ft, exp_lr_scheduler, num_epochs=10)\n",
        "# torch.save(model_ft.state_dict(), 'D:\\Deep_Learning\\Plant Pathology Kaggle')\n"
      ],
      "execution_count": null,
      "outputs": [
        {
          "output_type": "stream",
          "text": [
            "Epoch 0/9\n",
            "----------\n"
          ],
          "name": "stdout"
        },
        {
          "output_type": "stream",
          "text": [
            "/usr/local/lib/python3.6/dist-packages/torch/optim/lr_scheduler.py:136: UserWarning: Detected call of `lr_scheduler.step()` before `optimizer.step()`. In PyTorch 1.1.0 and later, you should call them in the opposite order: `optimizer.step()` before `lr_scheduler.step()`.  Failure to do this will result in PyTorch skipping the first value of the learning rate schedule. See more details at https://pytorch.org/docs/stable/optim.html#how-to-adjust-learning-rate\n",
            "  \"https://pytorch.org/docs/stable/optim.html#how-to-adjust-learning-rate\", UserWarning)\n"
          ],
          "name": "stderr"
        },
        {
          "output_type": "stream",
          "text": [
            "train Loss: 0.7498 Acc: 0.7562\n",
            "Epoch 1/9\n",
            "----------\n",
            "train Loss: 0.6353 Acc: 0.7990\n",
            "Epoch 2/9\n",
            "----------\n",
            "train Loss: 0.5231 Acc: 0.8490\n",
            "Epoch 3/9\n",
            "----------\n",
            "train Loss: 0.5277 Acc: 0.8347\n",
            "Epoch 4/9\n",
            "----------\n",
            "train Loss: 0.4257 Acc: 0.8682\n",
            "Epoch 5/9\n",
            "----------\n",
            "train Loss: 0.3735 Acc: 0.8858\n",
            "Epoch 6/9\n",
            "----------\n",
            "train Loss: 0.2700 Acc: 0.9187\n",
            "Epoch 7/9\n",
            "----------\n",
            "train Loss: 0.2134 Acc: 0.9336\n",
            "Epoch 8/9\n",
            "----------\n",
            "train Loss: 0.2135 Acc: 0.9325\n",
            "Epoch 9/9\n",
            "----------\n",
            "train Loss: 0.1888 Acc: 0.9390\n",
            "Training complete in 19m 47s\n",
            "Best val Acc: 0.939044\n"
          ],
          "name": "stdout"
        }
      ]
    },
    {
      "cell_type": "code",
      "metadata": {
        "colab": {
          "base_uri": "https://localhost:8080/"
        },
        "id": "XM75qj84lmPU",
        "outputId": "8f39013e-ba16-40fa-f6ea-a046e992be14"
      },
      "source": [
        "cd /content/drive/MyDrive/Plant_Pathology"
      ],
      "execution_count": null,
      "outputs": [
        {
          "output_type": "stream",
          "text": [
            "/content/drive/MyDrive/Plant_Pathology\n"
          ],
          "name": "stdout"
        }
      ]
    },
    {
      "cell_type": "code",
      "metadata": {
        "id": "4OYa_c0Wk7oi"
      },
      "source": [
        "torch.save(model_ft.state_dict(), ('resnet18_latest.pth'))"
      ],
      "execution_count": null,
      "outputs": []
    },
    {
      "cell_type": "code",
      "metadata": {
        "id": "FFew_rbWkDj5",
        "colab": {
          "base_uri": "https://localhost:8080/",
          "height": 336
        },
        "outputId": "da482f59-403e-4a1d-90bd-29ae29000f1e"
      },
      "source": [
        "def show_info(info, basenet, full=True):\n",
        "    train_loss, train_acc, val_loss, val_acc = info\n",
        "    plt.figure(figsize=(12, 5))\n",
        "    plt.plot(train_loss, label='train_loss')\n",
        "    plt.plot(train_acc, label='train_acc')\n",
        "    plt.plot(val_loss, label='val_loss')\n",
        "    plt.plot(val_acc, label='val_acc')\n",
        "    plt.legend()\n",
        "    plt.grid()\n",
        "    plt.title('Transfer learning info with base %s' % basenet)\n",
        "    #plt.savefig('./results/%s_%d.png' % (basenet, full), )\n",
        "show_info(info, 'resnet18')"
      ],
      "execution_count": null,
      "outputs": [
        {
          "output_type": "display_data",
          "data": {
            "image/png": "[encoded data removed]",
            "text/plain": [
              "<Figure size 864x360 with 1 Axes>"
            ]
          },
          "metadata": {
            "tags": [],
            "needs_background": "light"
          }
        }
      ]
    },
    {
      "cell_type": "code",
      "metadata": {
        "id": "jpZce4aYkDkB"
      },
      "source": [
        "model_save_name = 'classifier.pt'\n",
        "torch.save(model_ft.state_dict(), '/content/drive/My Drive/{model_save_name}')"
      ],
      "execution_count": null,
      "outputs": []
    },
    {
      "cell_type": "code",
      "metadata": {
        "id": "Cuceozg2kDkF",
        "colab": {
          "base_uri": "https://localhost:8080/",
          "height": 381
        },
        "outputId": "2731057e-b714-4686-d651-800a6b27c64a"
      },
      "source": [
        "visualize_model(model_ft)"
      ],
      "execution_count": null,
      "outputs": [
        {
          "output_type": "display_data",
          "data": {
            "image/png": "[encoded data removed]",
            "text/plain": [
              "<Figure size 432x288 with 1 Axes>"
            ]
          },
          "metadata": {
            "tags": [],
            "needs_background": "light"
          }
        },
        {
          "output_type": "display_data",
          "data": {
            "image/png": "[encoded data removed]",
            "text/plain": [
              "<Figure size 432x288 with 1 Axes>"
            ]
          },
          "metadata": {
            "tags": [],
            "needs_background": "light"
          }
        }
      ]
    },
    {
      "cell_type": "code",
      "metadata": {
        "id": "TeJcs7bNkDkJ",
        "colab": {
          "base_uri": "https://localhost:8080/",
          "height": 336
        },
        "outputId": "0c3da676-ad33-40a7-d7c1-9ca7256e5070"
      },
      "source": [
        "show_info(info, 'resnet18', 0)"
      ],
      "execution_count": null,
      "outputs": [
        {
          "output_type": "display_data",
          "data": {
            "image/png": "[encoded data removed]",
            "text/plain": [
              "<Figure size 864x360 with 1 Axes>"
            ]
          },
          "metadata": {
            "tags": [],
            "needs_background": "light"
          }
        }
      ]
    },
    {
      "cell_type": "code",
      "metadata": {
        "id": "-bF6qR2zGBKt"
      },
      "source": [
        "class ppDataset(torch.utils.data.Dataset):\n",
        "    def __init__(self, df, image_dir, return_labels=False, transforms=None):\n",
        "        self.df = df\n",
        "        self.image_dir = image_dir\n",
        "        self.transforms = transforms\n",
        "        self.return_labels = return_labels\n",
        "        self.label_map = {'healthy':0, 'multiple_diseases':1, 'rust':2, 'scab':3}\n",
        "        self.label_map_reverse = {v:k for k,v in self.label_map.items()}\n",
        "        \n",
        "    def __len__(self):\n",
        "        return self.df.__len__()\n",
        "    \n",
        "    def __getitem__(self, idx):\n",
        "        image_path = self.image_dir + self.df.loc[idx, 'image_id'] + '.jpg'\n",
        "        image = Image.open(image_path).convert('RGB')\n",
        "        \n",
        "        if self.transforms:\n",
        "            image = self.transforms(image)\n",
        "\n",
        "        if self.return_labels:\n",
        "            # label = torch.tensor(self.df.loc[idx, ['healthy', 'multiple_diseases', 'rust', 'scab']]).unsqueeze(1)\n",
        "            label = torch.tensor(self.df.loc[idx, ['healthy', 'multiple_diseases', 'rust', 'scab']]).unsqueeze(-1)\n",
        "            return image, label, self.label_map_reverse[label.squeeze(1).numpy().argmax()]\n",
        "        else:\n",
        "            return image"
      ],
      "execution_count": null,
      "outputs": []
    },
    {
      "cell_type": "code",
      "metadata": {
        "id": "bXmM4aV7FPye"
      },
      "source": [
        "import pandas as pd\n",
        "te_df = pd.read_csv('/content/drive/My Drive/test.csv')"
      ],
      "execution_count": null,
      "outputs": []
    },
    {
      "cell_type": "code",
      "metadata": {
        "id": "ddyVORBCGCpg"
      },
      "source": [
        "te_dataset = ppDataset(te_df, '/content/drive/My Drive/Plant_Pathology/test/', return_labels = False, transforms = data_transforms['train'])\n"
      ],
      "execution_count": null,
      "outputs": []
    },
    {
      "cell_type": "code",
      "metadata": {
        "id": "nGIFkS7lGTtd"
      },
      "source": [
        "test_loader=torch.utils.data.DataLoader(te_dataset, batch_size=16,\n",
        "                                             shuffle=False, num_workers=16)"
      ],
      "execution_count": null,
      "outputs": []
    },
    {
      "cell_type": "code",
      "metadata": {
        "id": "I8ZMY043GXFe",
        "colab": {
          "base_uri": "https://localhost:8080/"
        },
        "outputId": "e0ff4deb-7019-4cc3-cfed-294cc98a5e65"
      },
      "source": [
        "te_dataset"
      ],
      "execution_count": null,
      "outputs": [
        {
          "output_type": "execute_result",
          "data": {
            "text/plain": [
              "<__main__.ppDataset at 0x7f0c6aea1ef0>"
            ]
          },
          "metadata": {
            "tags": []
          },
          "execution_count": 25
        }
      ]
    },
    {
      "cell_type": "code",
      "metadata": {
        "id": "kP9rsQgMGcOS"
      },
      "source": [
        "from PIL import Image"
      ],
      "execution_count": null,
      "outputs": []
    },
    {
      "cell_type": "code",
      "metadata": {
        "id": "YgMOLFrDGbyu"
      },
      "source": [
        "def get_all_predictions(loaded_data,my_network):\n",
        "  my_network \n",
        "  final_stacked_result=None\n",
        "  for batch in (loaded_data):\n",
        "    with torch.set_grad_enabled(False):\n",
        "         predictions=my_network(batch.to(device))\n",
        "         test_prediction=predictions.data.cpu()\n",
        "         if final_stacked_result is None:\n",
        "            final_stacked_result=test_prediction.data.cpu()\n",
        "         else:\n",
        "             final_stacked_result=torch.cat((final_stacked_result,test_prediction.data.cpu()),dim=0)\n",
        "  return final_stacked_result\n",
        "\n",
        "#calling the function \n",
        "my_predictions=get_all_predictions(test_loader,model_ft)"
      ],
      "execution_count": null,
      "outputs": []
    },
    {
      "cell_type": "code",
      "metadata": {
        "id": "dTUR8So9HYGV",
        "colab": {
          "base_uri": "https://localhost:8080/"
        },
        "outputId": "99b7f621-d834-49f0-abe0-a7797f2e20b2"
      },
      "source": [
        "my_predictions.shape"
      ],
      "execution_count": null,
      "outputs": [
        {
          "output_type": "execute_result",
          "data": {
            "text/plain": [
              "torch.Size([1821, 4])"
            ]
          },
          "metadata": {
            "tags": []
          },
          "execution_count": 28
        }
      ]
    },
    {
      "cell_type": "code",
      "metadata": {
        "id": "YZ4GQWuBHbG8",
        "colab": {
          "base_uri": "https://localhost:8080/"
        },
        "outputId": "eefa6a7f-7219-4b41-fa4d-733dc37155fa"
      },
      "source": [
        "my_predictions[1]"
      ],
      "execution_count": null,
      "outputs": [
        {
          "output_type": "execute_result",
          "data": {
            "text/plain": [
              "tensor([-2.7849,  0.8295,  3.1136, -2.0263])"
            ]
          },
          "metadata": {
            "tags": []
          },
          "execution_count": 29
        }
      ]
    },
    {
      "cell_type": "code",
      "metadata": {
        "id": "5URLUjYsHy5w",
        "colab": {
          "base_uri": "https://localhost:8080/",
          "height": 419
        },
        "outputId": "5525d716-4533-4a84-85a1-3f3f2375e3bd"
      },
      "source": [
        "my_test_csv1=pd.read_csv('/content/test.csv')\n",
        "my_test_csv1"
      ],
      "execution_count": null,
      "outputs": [
        {
          "output_type": "execute_result",
          "data": {
            "text/html": [
              "<div>\n",
              "<style scoped>\n",
              "    .dataframe tbody tr th:only-of-type {\n",
              "        vertical-align: middle;\n",
              "    }\n",
              "\n",
              "    .dataframe tbody tr th {\n",
              "        vertical-align: top;\n",
              "    }\n",
              "\n",
              "    .dataframe thead th {\n",
              "        text-align: right;\n",
              "    }\n",
              "</style>\n",
              "<table border=\"1\" class=\"dataframe\">\n",
              "  <thead>\n",
              "    <tr style=\"text-align: right;\">\n",
              "      <th></th>\n",
              "      <th>image_id</th>\n",
              "    </tr>\n",
              "  </thead>\n",
              "  <tbody>\n",
              "    <tr>\n",
              "      <th>0</th>\n",
              "      <td>Test_0</td>\n",
              "    </tr>\n",
              "    <tr>\n",
              "      <th>1</th>\n",
              "      <td>Test_1</td>\n",
              "    </tr>\n",
              "    <tr>\n",
              "      <th>2</th>\n",
              "      <td>Test_2</td>\n",
              "    </tr>\n",
              "    <tr>\n",
              "      <th>3</th>\n",
              "      <td>Test_3</td>\n",
              "    </tr>\n",
              "    <tr>\n",
              "      <th>4</th>\n",
              "      <td>Test_4</td>\n",
              "    </tr>\n",
              "    <tr>\n",
              "      <th>...</th>\n",
              "      <td>...</td>\n",
              "    </tr>\n",
              "    <tr>\n",
              "      <th>1816</th>\n",
              "      <td>Test_1816</td>\n",
              "    </tr>\n",
              "    <tr>\n",
              "      <th>1817</th>\n",
              "      <td>Test_1817</td>\n",
              "    </tr>\n",
              "    <tr>\n",
              "      <th>1818</th>\n",
              "      <td>Test_1818</td>\n",
              "    </tr>\n",
              "    <tr>\n",
              "      <th>1819</th>\n",
              "      <td>Test_1819</td>\n",
              "    </tr>\n",
              "    <tr>\n",
              "      <th>1820</th>\n",
              "      <td>Test_1820</td>\n",
              "    </tr>\n",
              "  </tbody>\n",
              "</table>\n",
              "<p>1821 rows × 1 columns</p>\n",
              "</div>"
            ],
            "text/plain": [
              "       image_id\n",
              "0        Test_0\n",
              "1        Test_1\n",
              "2        Test_2\n",
              "3        Test_3\n",
              "4        Test_4\n",
              "...         ...\n",
              "1816  Test_1816\n",
              "1817  Test_1817\n",
              "1818  Test_1818\n",
              "1819  Test_1819\n",
              "1820  Test_1820\n",
              "\n",
              "[1821 rows x 1 columns]"
            ]
          },
          "metadata": {
            "tags": []
          },
          "execution_count": 39
        }
      ]
    },
    {
      "cell_type": "code",
      "metadata": {
        "id": "w9MQRmNhH6Zs"
      },
      "source": [
        "my_test_csv1['healthy']=np.array(my_predictions[:,0])\n",
        "my_test_csv1['multiple_diseases']=np.array(my_predictions[:,1])\n",
        "my_test_csv1['rust']=np.array(my_predictions[:,2])\n",
        "my_test_csv1['scab']=np.array(my_predictions[:,3])"
      ],
      "execution_count": null,
      "outputs": []
    },
    {
      "cell_type": "code",
      "metadata": {
        "id": "p9LQzIO4IBNq",
        "colab": {
          "base_uri": "https://localhost:8080/",
          "height": 419
        },
        "outputId": "11cdbf7e-1446-4c8e-e622-6e12cb3ed0ea"
      },
      "source": [
        "my_test_csv1"
      ],
      "execution_count": null,
      "outputs": [
        {
          "output_type": "execute_result",
          "data": {
            "text/html": [
              "<div>\n",
              "<style scoped>\n",
              "    .dataframe tbody tr th:only-of-type {\n",
              "        vertical-align: middle;\n",
              "    }\n",
              "\n",
              "    .dataframe tbody tr th {\n",
              "        vertical-align: top;\n",
              "    }\n",
              "\n",
              "    .dataframe thead th {\n",
              "        text-align: right;\n",
              "    }\n",
              "</style>\n",
              "<table border=\"1\" class=\"dataframe\">\n",
              "  <thead>\n",
              "    <tr style=\"text-align: right;\">\n",
              "      <th></th>\n",
              "      <th>image_id</th>\n",
              "      <th>healthy</th>\n",
              "      <th>multiple_diseases</th>\n",
              "      <th>rust</th>\n",
              "      <th>scab</th>\n",
              "    </tr>\n",
              "  </thead>\n",
              "  <tbody>\n",
              "    <tr>\n",
              "      <th>0</th>\n",
              "      <td>Test_0</td>\n",
              "      <td>-3.666914</td>\n",
              "      <td>1.599421</td>\n",
              "      <td>4.505884</td>\n",
              "      <td>-2.988237</td>\n",
              "    </tr>\n",
              "    <tr>\n",
              "      <th>1</th>\n",
              "      <td>Test_1</td>\n",
              "      <td>-4.030626</td>\n",
              "      <td>1.892504</td>\n",
              "      <td>3.960468</td>\n",
              "      <td>-2.399389</td>\n",
              "    </tr>\n",
              "    <tr>\n",
              "      <th>2</th>\n",
              "      <td>Test_2</td>\n",
              "      <td>-4.287856</td>\n",
              "      <td>1.123360</td>\n",
              "      <td>-2.878913</td>\n",
              "      <td>5.961521</td>\n",
              "    </tr>\n",
              "    <tr>\n",
              "      <th>3</th>\n",
              "      <td>Test_3</td>\n",
              "      <td>4.046075</td>\n",
              "      <td>-2.493927</td>\n",
              "      <td>-0.770888</td>\n",
              "      <td>-2.003650</td>\n",
              "    </tr>\n",
              "    <tr>\n",
              "      <th>4</th>\n",
              "      <td>Test_4</td>\n",
              "      <td>-5.108573</td>\n",
              "      <td>2.433788</td>\n",
              "      <td>6.476179</td>\n",
              "      <td>-4.279919</td>\n",
              "    </tr>\n",
              "    <tr>\n",
              "      <th>...</th>\n",
              "      <td>...</td>\n",
              "      <td>...</td>\n",
              "      <td>...</td>\n",
              "      <td>...</td>\n",
              "      <td>...</td>\n",
              "    </tr>\n",
              "    <tr>\n",
              "      <th>1816</th>\n",
              "      <td>Test_1816</td>\n",
              "      <td>-5.470191</td>\n",
              "      <td>2.338096</td>\n",
              "      <td>7.282164</td>\n",
              "      <td>-4.866586</td>\n",
              "    </tr>\n",
              "    <tr>\n",
              "      <th>1817</th>\n",
              "      <td>Test_1817</td>\n",
              "      <td>-3.130570</td>\n",
              "      <td>0.645028</td>\n",
              "      <td>-1.977174</td>\n",
              "      <td>4.175763</td>\n",
              "    </tr>\n",
              "    <tr>\n",
              "      <th>1818</th>\n",
              "      <td>Test_1818</td>\n",
              "      <td>-5.527367</td>\n",
              "      <td>3.022470</td>\n",
              "      <td>6.174787</td>\n",
              "      <td>-4.039438</td>\n",
              "    </tr>\n",
              "    <tr>\n",
              "      <th>1819</th>\n",
              "      <td>Test_1819</td>\n",
              "      <td>4.206418</td>\n",
              "      <td>-2.608039</td>\n",
              "      <td>-0.832354</td>\n",
              "      <td>-2.053507</td>\n",
              "    </tr>\n",
              "    <tr>\n",
              "      <th>1820</th>\n",
              "      <td>Test_1820</td>\n",
              "      <td>-0.916704</td>\n",
              "      <td>-0.425504</td>\n",
              "      <td>-1.880068</td>\n",
              "      <td>2.627376</td>\n",
              "    </tr>\n",
              "  </tbody>\n",
              "</table>\n",
              "<p>1821 rows × 5 columns</p>\n",
              "</div>"
            ],
            "text/plain": [
              "       image_id   healthy  multiple_diseases      rust      scab\n",
              "0        Test_0 -3.666914           1.599421  4.505884 -2.988237\n",
              "1        Test_1 -4.030626           1.892504  3.960468 -2.399389\n",
              "2        Test_2 -4.287856           1.123360 -2.878913  5.961521\n",
              "3        Test_3  4.046075          -2.493927 -0.770888 -2.003650\n",
              "4        Test_4 -5.108573           2.433788  6.476179 -4.279919\n",
              "...         ...       ...                ...       ...       ...\n",
              "1816  Test_1816 -5.470191           2.338096  7.282164 -4.866586\n",
              "1817  Test_1817 -3.130570           0.645028 -1.977174  4.175763\n",
              "1818  Test_1818 -5.527367           3.022470  6.174787 -4.039438\n",
              "1819  Test_1819  4.206418          -2.608039 -0.832354 -2.053507\n",
              "1820  Test_1820 -0.916704          -0.425504 -1.880068  2.627376\n",
              "\n",
              "[1821 rows x 5 columns]"
            ]
          },
          "metadata": {
            "tags": []
          },
          "execution_count": 41
        }
      ]
    },
    {
      "cell_type": "code",
      "metadata": {
        "id": "C3WOcREwITAz"
      },
      "source": [
        "my_test_csv1.to_csv('predicted_test_csv.csv',index=False)"
      ],
      "execution_count": null,
      "outputs": []
    },
    {
      "cell_type": "markdown",
      "metadata": {
        "id": "8AL2zWKHkDkN"
      },
      "source": [
        "## ConvNet as fixed feature extractor"
      ]
    },
    {
      "cell_type": "code",
      "metadata": {
        "id": "pRi0-9HbkDkN"
      },
      "source": [
        "torch.save(model_ft.state_dict(), '/home/uzair/Downloads/data/1recylce_material')"
      ],
      "execution_count": null,
      "outputs": []
    },
    {
      "cell_type": "code",
      "metadata": {
        "id": "g1NpmBd2kDkT"
      },
      "source": [
        "model_conv = torchvision.models.resnet18(pretrained=True)\n",
        "for param in model_conv.parameters():\n",
        "    param.requires_grad = False\n",
        "\n",
        "# Parameters of newly constructed modules have requires_grad=True by default\n",
        "num_ftrs = model_conv.fc.in_features\n",
        "model_conv.fc = nn.Linear(num_ftrs, 2)\n",
        "\n",
        "model_conv = model_conv.to(device)\n",
        "\n",
        "criterion = nn.CrossEntropyLoss()\n",
        "\n",
        "# Observe that only parameters of final layer are being optimized as\n",
        "# opposed to before.\n",
        "optimizer_conv = optim.SGD(model_conv.fc.parameters(), lr=0.001, momentum=0.9)\n",
        "\n",
        "# Decay LR by a factor of 0.1 every 7 epochs\n",
        "exp_lr_scheduler = lr_scheduler.StepLR(optimizer_conv, step_size=7, gamma=0.1)"
      ],
      "execution_count": null,
      "outputs": []
    },
    {
      "cell_type": "code",
      "metadata": {
        "collapsed": true,
        "id": "R9W2mQ1MkDkX",
        "outputId": "42e9f896-387c-49a5-f0e8-c3381cd46c6e"
      },
      "source": [
        "model_conv2, info2 = train_model(model_conv, criterion, optimizer_conv, exp_lr_scheduler, num_epochs=25)"
      ],
      "execution_count": null,
      "outputs": [
        {
          "output_type": "stream",
          "text": [
            "Epoch 0/24\n",
            "----------\n",
            "train Loss: 1.4675 Acc: 0.1798\n",
            "Epoch 1/24\n",
            "----------\n",
            "train Loss: 1.4676 Acc: 0.1785\n",
            "Epoch 2/24\n",
            "----------\n",
            "train Loss: 1.4683 Acc: 0.1831\n",
            "Epoch 3/24\n",
            "----------\n",
            "train Loss: 1.4684 Acc: 0.1848\n",
            "Epoch 4/24\n",
            "----------\n"
          ],
          "name": "stdout"
        },
        {
          "output_type": "error",
          "ename": "KeyboardInterrupt",
          "evalue": "",
          "traceback": [
            "\u001b[0;31m---------------------------------------------------------------------------\u001b[0m",
            "\u001b[0;31mKeyboardInterrupt\u001b[0m                         Traceback (most recent call last)",
            "\u001b[0;32m<ipython-input-16-6191063d3542>\u001b[0m in \u001b[0;36m<module>\u001b[0;34m\u001b[0m\n\u001b[1;32m      1\u001b[0m \u001b[0;31m# model_conv2, info2 = train_model(model_conv, criterion, optimizer_conv, exp_lr_scheduler, num_epochs=25)\u001b[0m\u001b[0;34m\u001b[0m\u001b[0;34m\u001b[0m\u001b[0;34m\u001b[0m\u001b[0m\n\u001b[0;32m----> 2\u001b[0;31m \u001b[0mmodel_conv2\u001b[0m\u001b[0;34m,\u001b[0m \u001b[0minfo2\u001b[0m \u001b[0;34m=\u001b[0m \u001b[0mtrain_model\u001b[0m\u001b[0;34m(\u001b[0m\u001b[0mmodel_conv\u001b[0m\u001b[0;34m,\u001b[0m \u001b[0mcriterion\u001b[0m\u001b[0;34m,\u001b[0m \u001b[0moptimizer_ft\u001b[0m\u001b[0;34m,\u001b[0m \u001b[0mexp_lr_scheduler\u001b[0m\u001b[0;34m,\u001b[0m \u001b[0mnum_epochs\u001b[0m\u001b[0;34m=\u001b[0m\u001b[0;36m25\u001b[0m\u001b[0;34m)\u001b[0m\u001b[0;34m\u001b[0m\u001b[0;34m\u001b[0m\u001b[0m\n\u001b[0m",
            "\u001b[0;32m<ipython-input-7-6cf580151978>\u001b[0m in \u001b[0;36mtrain_model\u001b[0;34m(model, criterion, optimizer, scheduler, num_epochs)\u001b[0m\n\u001b[1;32m     40\u001b[0m                     \u001b[0;32mif\u001b[0m \u001b[0mphase\u001b[0m \u001b[0;34m==\u001b[0m \u001b[0;34m'train'\u001b[0m\u001b[0;34m:\u001b[0m\u001b[0;34m\u001b[0m\u001b[0;34m\u001b[0m\u001b[0m\n\u001b[1;32m     41\u001b[0m                         \u001b[0mloss\u001b[0m\u001b[0;34m.\u001b[0m\u001b[0mbackward\u001b[0m\u001b[0;34m(\u001b[0m\u001b[0;34m)\u001b[0m\u001b[0;34m\u001b[0m\u001b[0;34m\u001b[0m\u001b[0m\n\u001b[0;32m---> 42\u001b[0;31m                         \u001b[0moptimizer\u001b[0m\u001b[0;34m.\u001b[0m\u001b[0mstep\u001b[0m\u001b[0;34m(\u001b[0m\u001b[0;34m)\u001b[0m\u001b[0;34m\u001b[0m\u001b[0;34m\u001b[0m\u001b[0m\n\u001b[0m\u001b[1;32m     43\u001b[0m \u001b[0;34m\u001b[0m\u001b[0m\n\u001b[1;32m     44\u001b[0m                 \u001b[0;31m# statistics\u001b[0m\u001b[0;34m\u001b[0m\u001b[0;34m\u001b[0m\u001b[0;34m\u001b[0m\u001b[0m\n",
            "\u001b[0;32m~/anaconda3/lib/python3.7/site-packages/torch/optim/lr_scheduler.py\u001b[0m in \u001b[0;36mwrapper\u001b[0;34m(*args, **kwargs)\u001b[0m\n\u001b[1;32m     34\u001b[0m             \u001b[0;32mdef\u001b[0m \u001b[0mwrapper\u001b[0m\u001b[0;34m(\u001b[0m\u001b[0;34m*\u001b[0m\u001b[0margs\u001b[0m\u001b[0;34m,\u001b[0m \u001b[0;34m**\u001b[0m\u001b[0mkwargs\u001b[0m\u001b[0;34m)\u001b[0m\u001b[0;34m:\u001b[0m\u001b[0;34m\u001b[0m\u001b[0;34m\u001b[0m\u001b[0m\n\u001b[1;32m     35\u001b[0m                 \u001b[0mopt\u001b[0m\u001b[0;34m.\u001b[0m\u001b[0m_step_count\u001b[0m \u001b[0;34m+=\u001b[0m \u001b[0;36m1\u001b[0m\u001b[0;34m\u001b[0m\u001b[0;34m\u001b[0m\u001b[0m\n\u001b[0;32m---> 36\u001b[0;31m                 \u001b[0;32mreturn\u001b[0m \u001b[0mfunc\u001b[0m\u001b[0;34m(\u001b[0m\u001b[0;34m*\u001b[0m\u001b[0margs\u001b[0m\u001b[0;34m,\u001b[0m \u001b[0;34m**\u001b[0m\u001b[0mkwargs\u001b[0m\u001b[0;34m)\u001b[0m\u001b[0;34m\u001b[0m\u001b[0;34m\u001b[0m\u001b[0m\n\u001b[0m\u001b[1;32m     37\u001b[0m             \u001b[0mwrapper\u001b[0m\u001b[0;34m.\u001b[0m\u001b[0m_with_counter\u001b[0m \u001b[0;34m=\u001b[0m \u001b[0;32mTrue\u001b[0m\u001b[0;34m\u001b[0m\u001b[0;34m\u001b[0m\u001b[0m\n\u001b[1;32m     38\u001b[0m             \u001b[0;32mreturn\u001b[0m \u001b[0mwrapper\u001b[0m\u001b[0;34m\u001b[0m\u001b[0;34m\u001b[0m\u001b[0m\n",
            "\u001b[0;32m~/anaconda3/lib/python3.7/site-packages/torch/optim/adam.py\u001b[0m in \u001b[0;36mstep\u001b[0;34m(self, closure)\u001b[0m\n\u001b[1;32m     91\u001b[0m \u001b[0;34m\u001b[0m\u001b[0m\n\u001b[1;32m     92\u001b[0m                 \u001b[0;31m# Decay the first and second moment running average coefficient\u001b[0m\u001b[0;34m\u001b[0m\u001b[0;34m\u001b[0m\u001b[0;34m\u001b[0m\u001b[0m\n\u001b[0;32m---> 93\u001b[0;31m                 \u001b[0mexp_avg\u001b[0m\u001b[0;34m.\u001b[0m\u001b[0mmul_\u001b[0m\u001b[0;34m(\u001b[0m\u001b[0mbeta1\u001b[0m\u001b[0;34m)\u001b[0m\u001b[0;34m.\u001b[0m\u001b[0madd_\u001b[0m\u001b[0;34m(\u001b[0m\u001b[0;36m1\u001b[0m \u001b[0;34m-\u001b[0m \u001b[0mbeta1\u001b[0m\u001b[0;34m,\u001b[0m \u001b[0mgrad\u001b[0m\u001b[0;34m)\u001b[0m\u001b[0;34m\u001b[0m\u001b[0;34m\u001b[0m\u001b[0m\n\u001b[0m\u001b[1;32m     94\u001b[0m                 \u001b[0mexp_avg_sq\u001b[0m\u001b[0;34m.\u001b[0m\u001b[0mmul_\u001b[0m\u001b[0;34m(\u001b[0m\u001b[0mbeta2\u001b[0m\u001b[0;34m)\u001b[0m\u001b[0;34m.\u001b[0m\u001b[0maddcmul_\u001b[0m\u001b[0;34m(\u001b[0m\u001b[0;36m1\u001b[0m \u001b[0;34m-\u001b[0m \u001b[0mbeta2\u001b[0m\u001b[0;34m,\u001b[0m \u001b[0mgrad\u001b[0m\u001b[0;34m,\u001b[0m \u001b[0mgrad\u001b[0m\u001b[0;34m)\u001b[0m\u001b[0;34m\u001b[0m\u001b[0;34m\u001b[0m\u001b[0m\n\u001b[1;32m     95\u001b[0m                 \u001b[0;32mif\u001b[0m \u001b[0mamsgrad\u001b[0m\u001b[0;34m:\u001b[0m\u001b[0;34m\u001b[0m\u001b[0;34m\u001b[0m\u001b[0m\n",
            "\u001b[0;31mKeyboardInterrupt\u001b[0m: "
          ]
        }
      ]
    },
    {
      "cell_type": "code",
      "metadata": {
        "id": "SNd0z8uOkDkc"
      },
      "source": [
        "show_info(info2, 'resnet18', 0)"
      ],
      "execution_count": null,
      "outputs": []
    },
    {
      "cell_type": "code",
      "metadata": {
        "id": "u7KWOgyAkDkf"
      },
      "source": [
        "visualize_model(model_conv2)\n",
        "\n",
        "plt.ioff()\n",
        "plt.show()"
      ],
      "execution_count": null,
      "outputs": []
    },
    {
      "cell_type": "code",
      "metadata": {
        "id": "iZta6jL0kDki",
        "outputId": "d7a538bb-d758-450a-8913-beab218f3b14"
      },
      "source": [
        "# model_ft = model_ft\n",
        "model_ft.load_state_dict(torch.load('/home/uzair/Downloads/data/recylce_material512by512'))\n",
        "# model_ft.eval()"
      ],
      "execution_count": null,
      "outputs": [
        {
          "output_type": "execute_result",
          "data": {
            "text/plain": [
              "<All keys matched successfully>"
            ]
          },
          "metadata": {
            "tags": []
          },
          "execution_count": 11
        }
      ]
    },
    {
      "cell_type": "code",
      "metadata": {
        "id": "QK4H09wBkDkm"
      },
      "source": [
        "#now only using code for pridiction \n",
        "'''\n",
        "Define Transforms\n",
        "Define Dataset Class\n",
        "'''\n",
        "data_transforms = {\n",
        "    'train': transforms.Compose([\n",
        "        transforms.Resize((128, 128)),\n",
        "        #transforms.RandomResizedCrop(224),\n",
        "        transforms.RandomHorizontalFlip(),\n",
        "        transforms.ToTensor(),\n",
        "        transforms.Normalize([0.485, 0.456, 0.406], [0.229, 0.224, 0.225])\n",
        "    ]),\n",
        "#     'val': transforms.Compose([\n",
        "#         transforms.Resize((224,224)),\n",
        "#         #transforms.CenterCrop(224),\n",
        "#         transforms.ToTensor(),\n",
        "#         transforms.Normalize([0.485, 0.456, 0.406], [0.229, 0.224, 0.225])\n",
        "#     ]),\n",
        "}\n",
        "\n",
        "class ppDataset(torch.utils.data.Dataset):\n",
        "    def __init__(self, df, image_dir, return_labels=False, transforms=None):\n",
        "        self.df = df\n",
        "        self.image_dir = image_dir\n",
        "        self.transforms = transforms\n",
        "        self.return_labels = return_labels\n",
        "        self.label_map = {'healthy':0, 'multiple_diseases':1, 'rust':2, 'scab':3}\n",
        "        self.label_map_reverse = {v:k for k,v in self.label_map.items()}\n",
        "        \n",
        "    def __len__(self):\n",
        "        return self.df.__len__()\n",
        "    \n",
        "    def __getitem__(self, idx):\n",
        "        image_path = self.image_dir + self.df.loc[idx, 'image_id'] + '.jpg'\n",
        "        image = Image.open(image_path).convert('RGB')\n",
        "        \n",
        "        if self.transforms:\n",
        "            image = self.transforms(image)\n",
        "\n",
        "        if self.return_labels:\n",
        "            # label = torch.tensor(self.df.loc[idx, ['healthy', 'multiple_diseases', 'rust', 'scab']]).unsqueeze(1)\n",
        "            label = torch.tensor(self.df.loc[idx, ['healthy', 'multiple_diseases', 'rust', 'scab']]).unsqueeze(-1)\n",
        "            return image, label, self.label_map_reverse[label.squeeze(1).numpy().argmax()]\n",
        "        else:\n",
        "            return image"
      ],
      "execution_count": null,
      "outputs": []
    },
    {
      "cell_type": "code",
      "metadata": {
        "id": "jIqHDXE8kDkp"
      },
      "source": [
        "import pandas as pd\n",
        "te_df = pd.read_csv('/home/uzair/Downloads/data/plant-pathology-2020-fgvc7/test.csv')"
      ],
      "execution_count": null,
      "outputs": []
    },
    {
      "cell_type": "code",
      "metadata": {
        "id": "-yhqlCQbkDkt"
      },
      "source": [
        "te_dataset = ppDataset(te_df, '/home/uzair/Downloads/data/plant-pathology-2020-fgvc7/test_images/', return_labels = False, transforms = data_transforms['train'])\n"
      ],
      "execution_count": null,
      "outputs": []
    },
    {
      "cell_type": "code",
      "metadata": {
        "id": "O2djbV5akDkw"
      },
      "source": [
        "#now making the data_loader for test dataset\n",
        "test_loader=torch.utils.data.DataLoader(te_dataset, batch_size=16,\n",
        "                                             shuffle=False, num_workers=16)"
      ],
      "execution_count": null,
      "outputs": []
    },
    {
      "cell_type": "code",
      "metadata": {
        "id": "ccPBFeUzkDk0",
        "outputId": "b1ee3bf0-fa14-4e9f-ce44-62b2d8989781"
      },
      "source": [
        "te_dataset"
      ],
      "execution_count": null,
      "outputs": [
        {
          "output_type": "execute_result",
          "data": {
            "text/plain": [
              "<__main__.ppDataset at 0x7fe8de877d68>"
            ]
          },
          "metadata": {
            "tags": []
          },
          "execution_count": 7
        }
      ]
    },
    {
      "cell_type": "code",
      "metadata": {
        "id": "81xDbMuMkDk4"
      },
      "source": [
        "from PIL import Image"
      ],
      "execution_count": null,
      "outputs": []
    },
    {
      "cell_type": "code",
      "metadata": {
        "id": "qfmxvYYUkDk7"
      },
      "source": [
        "def get_all_predictions(loaded_data,my_network):\n",
        "  my_network \n",
        "  final_stacked_result=None\n",
        "  for batch in (loaded_data):\n",
        "    with torch.set_grad_enabled(False):\n",
        "         predictions=my_network(batch.to(device))\n",
        "         test_prediction=predictions.data.cpu()\n",
        "         if final_stacked_result is None:\n",
        "            final_stacked_result=test_prediction.data.cpu()\n",
        "         else:\n",
        "             final_stacked_result=torch.cat((final_stacked_result,test_prediction.data.cpu()),dim=0)\n",
        "  return final_stacked_result\n",
        "\n",
        "#calling the function \n",
        "my_predictions=get_all_predictions(test_loader,model_ft)\n"
      ],
      "execution_count": null,
      "outputs": []
    },
    {
      "cell_type": "code",
      "metadata": {
        "scrolled": true,
        "id": "4fcnKUXZkDlA",
        "outputId": "a5867848-15d9-4a3b-a92d-1f2f83e4e2d1"
      },
      "source": [
        "my_predictions = torch.softmax(my_predictions, dim=1, dtype=float)\n",
        "my_predictions.shape"
      ],
      "execution_count": null,
      "outputs": [
        {
          "output_type": "execute_result",
          "data": {
            "text/plain": [
              "torch.Size([1821, 4])"
            ]
          },
          "metadata": {
            "tags": []
          },
          "execution_count": 20
        }
      ]
    },
    {
      "cell_type": "code",
      "metadata": {
        "id": "8iFiUGpzkDlD",
        "outputId": "a64339ff-89ea-4189-ebdc-4b6e719af16c"
      },
      "source": [
        "my_predictions.shape"
      ],
      "execution_count": null,
      "outputs": [
        {
          "output_type": "execute_result",
          "data": {
            "text/plain": [
              "torch.Size([1821, 4])"
            ]
          },
          "metadata": {
            "tags": []
          },
          "execution_count": 21
        }
      ]
    },
    {
      "cell_type": "code",
      "metadata": {
        "scrolled": true,
        "id": "Lug0gz28kDlI",
        "outputId": "98c1bab9-ee2e-4194-8146-1e91d4a370a0"
      },
      "source": [
        "#reading_test_csv\n",
        "my_test_csv1=pd.read_csv('/home/uzair/Downloads/data/plant-pathology-2020-fgvc7/test.csv')\n",
        "my_test_csv1"
      ],
      "execution_count": null,
      "outputs": [
        {
          "output_type": "execute_result",
          "data": {
            "text/html": [
              "<div>\n",
              "<style scoped>\n",
              "    .dataframe tbody tr th:only-of-type {\n",
              "        vertical-align: middle;\n",
              "    }\n",
              "\n",
              "    .dataframe tbody tr th {\n",
              "        vertical-align: top;\n",
              "    }\n",
              "\n",
              "    .dataframe thead th {\n",
              "        text-align: right;\n",
              "    }\n",
              "</style>\n",
              "<table border=\"1\" class=\"dataframe\">\n",
              "  <thead>\n",
              "    <tr style=\"text-align: right;\">\n",
              "      <th></th>\n",
              "      <th>image_id</th>\n",
              "    </tr>\n",
              "  </thead>\n",
              "  <tbody>\n",
              "    <tr>\n",
              "      <th>0</th>\n",
              "      <td>Test_0</td>\n",
              "    </tr>\n",
              "    <tr>\n",
              "      <th>1</th>\n",
              "      <td>Test_1</td>\n",
              "    </tr>\n",
              "    <tr>\n",
              "      <th>2</th>\n",
              "      <td>Test_2</td>\n",
              "    </tr>\n",
              "    <tr>\n",
              "      <th>3</th>\n",
              "      <td>Test_3</td>\n",
              "    </tr>\n",
              "    <tr>\n",
              "      <th>4</th>\n",
              "      <td>Test_4</td>\n",
              "    </tr>\n",
              "    <tr>\n",
              "      <th>5</th>\n",
              "      <td>Test_5</td>\n",
              "    </tr>\n",
              "    <tr>\n",
              "      <th>6</th>\n",
              "      <td>Test_6</td>\n",
              "    </tr>\n",
              "    <tr>\n",
              "      <th>7</th>\n",
              "      <td>Test_7</td>\n",
              "    </tr>\n",
              "    <tr>\n",
              "      <th>8</th>\n",
              "      <td>Test_8</td>\n",
              "    </tr>\n",
              "    <tr>\n",
              "      <th>9</th>\n",
              "      <td>Test_9</td>\n",
              "    </tr>\n",
              "    <tr>\n",
              "      <th>10</th>\n",
              "      <td>Test_10</td>\n",
              "    </tr>\n",
              "    <tr>\n",
              "      <th>11</th>\n",
              "      <td>Test_11</td>\n",
              "    </tr>\n",
              "    <tr>\n",
              "      <th>12</th>\n",
              "      <td>Test_12</td>\n",
              "    </tr>\n",
              "    <tr>\n",
              "      <th>13</th>\n",
              "      <td>Test_13</td>\n",
              "    </tr>\n",
              "    <tr>\n",
              "      <th>14</th>\n",
              "      <td>Test_14</td>\n",
              "    </tr>\n",
              "    <tr>\n",
              "      <th>15</th>\n",
              "      <td>Test_15</td>\n",
              "    </tr>\n",
              "    <tr>\n",
              "      <th>16</th>\n",
              "      <td>Test_16</td>\n",
              "    </tr>\n",
              "    <tr>\n",
              "      <th>17</th>\n",
              "      <td>Test_17</td>\n",
              "    </tr>\n",
              "    <tr>\n",
              "      <th>18</th>\n",
              "      <td>Test_18</td>\n",
              "    </tr>\n",
              "    <tr>\n",
              "      <th>19</th>\n",
              "      <td>Test_19</td>\n",
              "    </tr>\n",
              "    <tr>\n",
              "      <th>20</th>\n",
              "      <td>Test_20</td>\n",
              "    </tr>\n",
              "    <tr>\n",
              "      <th>21</th>\n",
              "      <td>Test_21</td>\n",
              "    </tr>\n",
              "    <tr>\n",
              "      <th>22</th>\n",
              "      <td>Test_22</td>\n",
              "    </tr>\n",
              "    <tr>\n",
              "      <th>23</th>\n",
              "      <td>Test_23</td>\n",
              "    </tr>\n",
              "    <tr>\n",
              "      <th>24</th>\n",
              "      <td>Test_24</td>\n",
              "    </tr>\n",
              "    <tr>\n",
              "      <th>25</th>\n",
              "      <td>Test_25</td>\n",
              "    </tr>\n",
              "    <tr>\n",
              "      <th>26</th>\n",
              "      <td>Test_26</td>\n",
              "    </tr>\n",
              "    <tr>\n",
              "      <th>27</th>\n",
              "      <td>Test_27</td>\n",
              "    </tr>\n",
              "    <tr>\n",
              "      <th>28</th>\n",
              "      <td>Test_28</td>\n",
              "    </tr>\n",
              "    <tr>\n",
              "      <th>29</th>\n",
              "      <td>Test_29</td>\n",
              "    </tr>\n",
              "    <tr>\n",
              "      <th>...</th>\n",
              "      <td>...</td>\n",
              "    </tr>\n",
              "    <tr>\n",
              "      <th>1791</th>\n",
              "      <td>Test_1791</td>\n",
              "    </tr>\n",
              "    <tr>\n",
              "      <th>1792</th>\n",
              "      <td>Test_1792</td>\n",
              "    </tr>\n",
              "    <tr>\n",
              "      <th>1793</th>\n",
              "      <td>Test_1793</td>\n",
              "    </tr>\n",
              "    <tr>\n",
              "      <th>1794</th>\n",
              "      <td>Test_1794</td>\n",
              "    </tr>\n",
              "    <tr>\n",
              "      <th>1795</th>\n",
              "      <td>Test_1795</td>\n",
              "    </tr>\n",
              "    <tr>\n",
              "      <th>1796</th>\n",
              "      <td>Test_1796</td>\n",
              "    </tr>\n",
              "    <tr>\n",
              "      <th>1797</th>\n",
              "      <td>Test_1797</td>\n",
              "    </tr>\n",
              "    <tr>\n",
              "      <th>1798</th>\n",
              "      <td>Test_1798</td>\n",
              "    </tr>\n",
              "    <tr>\n",
              "      <th>1799</th>\n",
              "      <td>Test_1799</td>\n",
              "    </tr>\n",
              "    <tr>\n",
              "      <th>1800</th>\n",
              "      <td>Test_1800</td>\n",
              "    </tr>\n",
              "    <tr>\n",
              "      <th>1801</th>\n",
              "      <td>Test_1801</td>\n",
              "    </tr>\n",
              "    <tr>\n",
              "      <th>1802</th>\n",
              "      <td>Test_1802</td>\n",
              "    </tr>\n",
              "    <tr>\n",
              "      <th>1803</th>\n",
              "      <td>Test_1803</td>\n",
              "    </tr>\n",
              "    <tr>\n",
              "      <th>1804</th>\n",
              "      <td>Test_1804</td>\n",
              "    </tr>\n",
              "    <tr>\n",
              "      <th>1805</th>\n",
              "      <td>Test_1805</td>\n",
              "    </tr>\n",
              "    <tr>\n",
              "      <th>1806</th>\n",
              "      <td>Test_1806</td>\n",
              "    </tr>\n",
              "    <tr>\n",
              "      <th>1807</th>\n",
              "      <td>Test_1807</td>\n",
              "    </tr>\n",
              "    <tr>\n",
              "      <th>1808</th>\n",
              "      <td>Test_1808</td>\n",
              "    </tr>\n",
              "    <tr>\n",
              "      <th>1809</th>\n",
              "      <td>Test_1809</td>\n",
              "    </tr>\n",
              "    <tr>\n",
              "      <th>1810</th>\n",
              "      <td>Test_1810</td>\n",
              "    </tr>\n",
              "    <tr>\n",
              "      <th>1811</th>\n",
              "      <td>Test_1811</td>\n",
              "    </tr>\n",
              "    <tr>\n",
              "      <th>1812</th>\n",
              "      <td>Test_1812</td>\n",
              "    </tr>\n",
              "    <tr>\n",
              "      <th>1813</th>\n",
              "      <td>Test_1813</td>\n",
              "    </tr>\n",
              "    <tr>\n",
              "      <th>1814</th>\n",
              "      <td>Test_1814</td>\n",
              "    </tr>\n",
              "    <tr>\n",
              "      <th>1815</th>\n",
              "      <td>Test_1815</td>\n",
              "    </tr>\n",
              "    <tr>\n",
              "      <th>1816</th>\n",
              "      <td>Test_1816</td>\n",
              "    </tr>\n",
              "    <tr>\n",
              "      <th>1817</th>\n",
              "      <td>Test_1817</td>\n",
              "    </tr>\n",
              "    <tr>\n",
              "      <th>1818</th>\n",
              "      <td>Test_1818</td>\n",
              "    </tr>\n",
              "    <tr>\n",
              "      <th>1819</th>\n",
              "      <td>Test_1819</td>\n",
              "    </tr>\n",
              "    <tr>\n",
              "      <th>1820</th>\n",
              "      <td>Test_1820</td>\n",
              "    </tr>\n",
              "  </tbody>\n",
              "</table>\n",
              "<p>1821 rows × 1 columns</p>\n",
              "</div>"
            ],
            "text/plain": [
              "       image_id\n",
              "0        Test_0\n",
              "1        Test_1\n",
              "2        Test_2\n",
              "3        Test_3\n",
              "4        Test_4\n",
              "5        Test_5\n",
              "6        Test_6\n",
              "7        Test_7\n",
              "8        Test_8\n",
              "9        Test_9\n",
              "10      Test_10\n",
              "11      Test_11\n",
              "12      Test_12\n",
              "13      Test_13\n",
              "14      Test_14\n",
              "15      Test_15\n",
              "16      Test_16\n",
              "17      Test_17\n",
              "18      Test_18\n",
              "19      Test_19\n",
              "20      Test_20\n",
              "21      Test_21\n",
              "22      Test_22\n",
              "23      Test_23\n",
              "24      Test_24\n",
              "25      Test_25\n",
              "26      Test_26\n",
              "27      Test_27\n",
              "28      Test_28\n",
              "29      Test_29\n",
              "...         ...\n",
              "1791  Test_1791\n",
              "1792  Test_1792\n",
              "1793  Test_1793\n",
              "1794  Test_1794\n",
              "1795  Test_1795\n",
              "1796  Test_1796\n",
              "1797  Test_1797\n",
              "1798  Test_1798\n",
              "1799  Test_1799\n",
              "1800  Test_1800\n",
              "1801  Test_1801\n",
              "1802  Test_1802\n",
              "1803  Test_1803\n",
              "1804  Test_1804\n",
              "1805  Test_1805\n",
              "1806  Test_1806\n",
              "1807  Test_1807\n",
              "1808  Test_1808\n",
              "1809  Test_1809\n",
              "1810  Test_1810\n",
              "1811  Test_1811\n",
              "1812  Test_1812\n",
              "1813  Test_1813\n",
              "1814  Test_1814\n",
              "1815  Test_1815\n",
              "1816  Test_1816\n",
              "1817  Test_1817\n",
              "1818  Test_1818\n",
              "1819  Test_1819\n",
              "1820  Test_1820\n",
              "\n",
              "[1821 rows x 1 columns]"
            ]
          },
          "metadata": {
            "tags": []
          },
          "execution_count": 22
        }
      ]
    },
    {
      "cell_type": "code",
      "metadata": {
        "id": "dL7khqFJkDlM"
      },
      "source": [
        ""
      ],
      "execution_count": null,
      "outputs": []
    },
    {
      "cell_type": "code",
      "metadata": {
        "id": "oucg-vxjkDlP"
      },
      "source": [
        "my_test_csv1['healthy']=np.array(my_predictions[:,0])\n",
        "my_test_csv1['multiple_diseases']=np.array(my_predictions[:,1])\n",
        "my_test_csv1['rust']=np.array(my_predictions[:,2])\n",
        "my_test_csv1['scab']=np.array(my_predictions[:,3])"
      ],
      "execution_count": null,
      "outputs": []
    },
    {
      "cell_type": "code",
      "metadata": {
        "id": "GZFtzJwqkDlT"
      },
      "source": [
        ""
      ],
      "execution_count": null,
      "outputs": []
    },
    {
      "cell_type": "code",
      "metadata": {
        "collapsed": true,
        "id": "eF8Oyc8KkDlW",
        "outputId": "48102fde-29ab-48d4-e953-7361a5690fe2"
      },
      "source": [
        "my_test_csv1"
      ],
      "execution_count": null,
      "outputs": [
        {
          "output_type": "execute_result",
          "data": {
            "text/html": [
              "<div>\n",
              "<style scoped>\n",
              "    .dataframe tbody tr th:only-of-type {\n",
              "        vertical-align: middle;\n",
              "    }\n",
              "\n",
              "    .dataframe tbody tr th {\n",
              "        vertical-align: top;\n",
              "    }\n",
              "\n",
              "    .dataframe thead th {\n",
              "        text-align: right;\n",
              "    }\n",
              "</style>\n",
              "<table border=\"1\" class=\"dataframe\">\n",
              "  <thead>\n",
              "    <tr style=\"text-align: right;\">\n",
              "      <th></th>\n",
              "      <th>image_id</th>\n",
              "      <th>healthy</th>\n",
              "      <th>multiple_diseases</th>\n",
              "      <th>rust</th>\n",
              "      <th>scab</th>\n",
              "    </tr>\n",
              "  </thead>\n",
              "  <tbody>\n",
              "    <tr>\n",
              "      <th>0</th>\n",
              "      <td>Test_0</td>\n",
              "      <td>9.243853e-07</td>\n",
              "      <td>5.555455e-04</td>\n",
              "      <td>0.999443</td>\n",
              "      <td>7.629882e-07</td>\n",
              "    </tr>\n",
              "    <tr>\n",
              "      <th>1</th>\n",
              "      <td>Test_1</td>\n",
              "      <td>3.698172e-05</td>\n",
              "      <td>8.779310e-01</td>\n",
              "      <td>0.121987</td>\n",
              "      <td>4.461165e-05</td>\n",
              "    </tr>\n",
              "    <tr>\n",
              "      <th>2</th>\n",
              "      <td>Test_2</td>\n",
              "      <td>4.962352e-06</td>\n",
              "      <td>2.847890e-05</td>\n",
              "      <td>0.000003</td>\n",
              "      <td>9.999637e-01</td>\n",
              "    </tr>\n",
              "    <tr>\n",
              "      <th>3</th>\n",
              "      <td>Test_3</td>\n",
              "      <td>9.970944e-01</td>\n",
              "      <td>4.001876e-05</td>\n",
              "      <td>0.000061</td>\n",
              "      <td>2.804414e-03</td>\n",
              "    </tr>\n",
              "    <tr>\n",
              "      <th>4</th>\n",
              "      <td>Test_4</td>\n",
              "      <td>1.554126e-09</td>\n",
              "      <td>3.725971e-02</td>\n",
              "      <td>0.962740</td>\n",
              "      <td>2.225596e-08</td>\n",
              "    </tr>\n",
              "    <tr>\n",
              "      <th>5</th>\n",
              "      <td>Test_5</td>\n",
              "      <td>9.984550e-01</td>\n",
              "      <td>3.116869e-05</td>\n",
              "      <td>0.000134</td>\n",
              "      <td>1.380276e-03</td>\n",
              "    </tr>\n",
              "    <tr>\n",
              "      <th>6</th>\n",
              "      <td>Test_6</td>\n",
              "      <td>9.997728e-01</td>\n",
              "      <td>4.894445e-06</td>\n",
              "      <td>0.000026</td>\n",
              "      <td>1.959526e-04</td>\n",
              "    </tr>\n",
              "    <tr>\n",
              "      <th>7</th>\n",
              "      <td>Test_7</td>\n",
              "      <td>1.658546e-06</td>\n",
              "      <td>1.208318e-05</td>\n",
              "      <td>0.000002</td>\n",
              "      <td>9.999846e-01</td>\n",
              "    </tr>\n",
              "    <tr>\n",
              "      <th>8</th>\n",
              "      <td>Test_8</td>\n",
              "      <td>5.526380e-05</td>\n",
              "      <td>3.202622e-03</td>\n",
              "      <td>0.000006</td>\n",
              "      <td>9.967361e-01</td>\n",
              "    </tr>\n",
              "    <tr>\n",
              "      <th>9</th>\n",
              "      <td>Test_9</td>\n",
              "      <td>3.207231e-08</td>\n",
              "      <td>5.223497e-05</td>\n",
              "      <td>0.999948</td>\n",
              "      <td>2.312566e-08</td>\n",
              "    </tr>\n",
              "    <tr>\n",
              "      <th>10</th>\n",
              "      <td>Test_10</td>\n",
              "      <td>6.462888e-08</td>\n",
              "      <td>2.772439e-02</td>\n",
              "      <td>0.972275</td>\n",
              "      <td>9.928032e-08</td>\n",
              "    </tr>\n",
              "    <tr>\n",
              "      <th>11</th>\n",
              "      <td>Test_11</td>\n",
              "      <td>9.955438e-01</td>\n",
              "      <td>1.446092e-04</td>\n",
              "      <td>0.000323</td>\n",
              "      <td>3.988982e-03</td>\n",
              "    </tr>\n",
              "    <tr>\n",
              "      <th>12</th>\n",
              "      <td>Test_12</td>\n",
              "      <td>1.493843e-01</td>\n",
              "      <td>1.201755e-03</td>\n",
              "      <td>0.000335</td>\n",
              "      <td>8.490789e-01</td>\n",
              "    </tr>\n",
              "    <tr>\n",
              "      <th>13</th>\n",
              "      <td>Test_13</td>\n",
              "      <td>9.079987e-01</td>\n",
              "      <td>6.396176e-02</td>\n",
              "      <td>0.025303</td>\n",
              "      <td>2.736444e-03</td>\n",
              "    </tr>\n",
              "    <tr>\n",
              "      <th>14</th>\n",
              "      <td>Test_14</td>\n",
              "      <td>6.249231e-08</td>\n",
              "      <td>2.255886e-02</td>\n",
              "      <td>0.977440</td>\n",
              "      <td>1.110245e-06</td>\n",
              "    </tr>\n",
              "    <tr>\n",
              "      <th>15</th>\n",
              "      <td>Test_15</td>\n",
              "      <td>7.904698e-05</td>\n",
              "      <td>1.765454e-04</td>\n",
              "      <td>0.999719</td>\n",
              "      <td>2.497340e-05</td>\n",
              "    </tr>\n",
              "    <tr>\n",
              "      <th>16</th>\n",
              "      <td>Test_16</td>\n",
              "      <td>9.994580e-01</td>\n",
              "      <td>1.207581e-05</td>\n",
              "      <td>0.000517</td>\n",
              "      <td>1.324107e-05</td>\n",
              "    </tr>\n",
              "    <tr>\n",
              "      <th>17</th>\n",
              "      <td>Test_17</td>\n",
              "      <td>5.971567e-06</td>\n",
              "      <td>1.438652e-01</td>\n",
              "      <td>0.000001</td>\n",
              "      <td>8.561275e-01</td>\n",
              "    </tr>\n",
              "    <tr>\n",
              "      <th>18</th>\n",
              "      <td>Test_18</td>\n",
              "      <td>7.694774e-03</td>\n",
              "      <td>2.031213e-03</td>\n",
              "      <td>0.000041</td>\n",
              "      <td>9.902331e-01</td>\n",
              "    </tr>\n",
              "    <tr>\n",
              "      <th>19</th>\n",
              "      <td>Test_19</td>\n",
              "      <td>1.605492e-11</td>\n",
              "      <td>1.042248e-03</td>\n",
              "      <td>0.998958</td>\n",
              "      <td>5.013583e-11</td>\n",
              "    </tr>\n",
              "    <tr>\n",
              "      <th>20</th>\n",
              "      <td>Test_20</td>\n",
              "      <td>6.291312e-06</td>\n",
              "      <td>2.163649e-03</td>\n",
              "      <td>0.000003</td>\n",
              "      <td>9.978273e-01</td>\n",
              "    </tr>\n",
              "    <tr>\n",
              "      <th>21</th>\n",
              "      <td>Test_21</td>\n",
              "      <td>9.991190e-01</td>\n",
              "      <td>6.505940e-07</td>\n",
              "      <td>0.000126</td>\n",
              "      <td>7.547776e-04</td>\n",
              "    </tr>\n",
              "    <tr>\n",
              "      <th>22</th>\n",
              "      <td>Test_22</td>\n",
              "      <td>1.456282e-08</td>\n",
              "      <td>4.335751e-01</td>\n",
              "      <td>0.566424</td>\n",
              "      <td>7.417601e-07</td>\n",
              "    </tr>\n",
              "    <tr>\n",
              "      <th>23</th>\n",
              "      <td>Test_23</td>\n",
              "      <td>9.137955e-04</td>\n",
              "      <td>2.121766e-02</td>\n",
              "      <td>0.008626</td>\n",
              "      <td>9.692430e-01</td>\n",
              "    </tr>\n",
              "    <tr>\n",
              "      <th>24</th>\n",
              "      <td>Test_24</td>\n",
              "      <td>9.893631e-01</td>\n",
              "      <td>1.629725e-04</td>\n",
              "      <td>0.000101</td>\n",
              "      <td>1.037270e-02</td>\n",
              "    </tr>\n",
              "    <tr>\n",
              "      <th>25</th>\n",
              "      <td>Test_25</td>\n",
              "      <td>1.022873e-04</td>\n",
              "      <td>2.735871e-06</td>\n",
              "      <td>0.000016</td>\n",
              "      <td>9.998787e-01</td>\n",
              "    </tr>\n",
              "    <tr>\n",
              "      <th>26</th>\n",
              "      <td>Test_26</td>\n",
              "      <td>1.665639e-01</td>\n",
              "      <td>1.447462e-04</td>\n",
              "      <td>0.000523</td>\n",
              "      <td>8.327681e-01</td>\n",
              "    </tr>\n",
              "    <tr>\n",
              "      <th>27</th>\n",
              "      <td>Test_27</td>\n",
              "      <td>2.740353e-08</td>\n",
              "      <td>4.892963e-04</td>\n",
              "      <td>0.999511</td>\n",
              "      <td>1.662796e-08</td>\n",
              "    </tr>\n",
              "    <tr>\n",
              "      <th>28</th>\n",
              "      <td>Test_28</td>\n",
              "      <td>9.995296e-01</td>\n",
              "      <td>1.345695e-04</td>\n",
              "      <td>0.000026</td>\n",
              "      <td>3.097924e-04</td>\n",
              "    </tr>\n",
              "    <tr>\n",
              "      <th>29</th>\n",
              "      <td>Test_29</td>\n",
              "      <td>3.009454e-05</td>\n",
              "      <td>9.602403e-01</td>\n",
              "      <td>0.036806</td>\n",
              "      <td>2.923444e-03</td>\n",
              "    </tr>\n",
              "    <tr>\n",
              "      <th>...</th>\n",
              "      <td>...</td>\n",
              "      <td>...</td>\n",
              "      <td>...</td>\n",
              "      <td>...</td>\n",
              "      <td>...</td>\n",
              "    </tr>\n",
              "    <tr>\n",
              "      <th>1791</th>\n",
              "      <td>Test_1791</td>\n",
              "      <td>9.979911e-01</td>\n",
              "      <td>1.775357e-06</td>\n",
              "      <td>0.000121</td>\n",
              "      <td>1.885901e-03</td>\n",
              "    </tr>\n",
              "    <tr>\n",
              "      <th>1792</th>\n",
              "      <td>Test_1792</td>\n",
              "      <td>2.418579e-06</td>\n",
              "      <td>9.506565e-03</td>\n",
              "      <td>0.990478</td>\n",
              "      <td>1.333741e-05</td>\n",
              "    </tr>\n",
              "    <tr>\n",
              "      <th>1793</th>\n",
              "      <td>Test_1793</td>\n",
              "      <td>5.725550e-08</td>\n",
              "      <td>6.411319e-01</td>\n",
              "      <td>0.358865</td>\n",
              "      <td>3.300467e-06</td>\n",
              "    </tr>\n",
              "    <tr>\n",
              "      <th>1794</th>\n",
              "      <td>Test_1794</td>\n",
              "      <td>8.985379e-09</td>\n",
              "      <td>1.281875e-03</td>\n",
              "      <td>0.998718</td>\n",
              "      <td>5.992318e-08</td>\n",
              "    </tr>\n",
              "    <tr>\n",
              "      <th>1795</th>\n",
              "      <td>Test_1795</td>\n",
              "      <td>8.284093e-01</td>\n",
              "      <td>8.356963e-05</td>\n",
              "      <td>0.000397</td>\n",
              "      <td>1.711105e-01</td>\n",
              "    </tr>\n",
              "    <tr>\n",
              "      <th>1796</th>\n",
              "      <td>Test_1796</td>\n",
              "      <td>1.757767e-07</td>\n",
              "      <td>2.687977e-02</td>\n",
              "      <td>0.973118</td>\n",
              "      <td>1.722464e-06</td>\n",
              "    </tr>\n",
              "    <tr>\n",
              "      <th>1797</th>\n",
              "      <td>Test_1797</td>\n",
              "      <td>1.717177e-04</td>\n",
              "      <td>8.691670e-01</td>\n",
              "      <td>0.124496</td>\n",
              "      <td>6.165490e-03</td>\n",
              "    </tr>\n",
              "    <tr>\n",
              "      <th>1798</th>\n",
              "      <td>Test_1798</td>\n",
              "      <td>9.998999e-01</td>\n",
              "      <td>9.866759e-07</td>\n",
              "      <td>0.000034</td>\n",
              "      <td>6.502026e-05</td>\n",
              "    </tr>\n",
              "    <tr>\n",
              "      <th>1799</th>\n",
              "      <td>Test_1799</td>\n",
              "      <td>2.184406e-05</td>\n",
              "      <td>6.760860e-04</td>\n",
              "      <td>0.000015</td>\n",
              "      <td>9.992872e-01</td>\n",
              "    </tr>\n",
              "    <tr>\n",
              "      <th>1800</th>\n",
              "      <td>Test_1800</td>\n",
              "      <td>9.477394e-01</td>\n",
              "      <td>7.713889e-04</td>\n",
              "      <td>0.000121</td>\n",
              "      <td>5.136806e-02</td>\n",
              "    </tr>\n",
              "    <tr>\n",
              "      <th>1801</th>\n",
              "      <td>Test_1801</td>\n",
              "      <td>4.017865e-04</td>\n",
              "      <td>2.333600e-03</td>\n",
              "      <td>0.000005</td>\n",
              "      <td>9.972598e-01</td>\n",
              "    </tr>\n",
              "    <tr>\n",
              "      <th>1802</th>\n",
              "      <td>Test_1802</td>\n",
              "      <td>1.029442e-09</td>\n",
              "      <td>1.348992e-06</td>\n",
              "      <td>0.999999</td>\n",
              "      <td>5.197716e-10</td>\n",
              "    </tr>\n",
              "    <tr>\n",
              "      <th>1803</th>\n",
              "      <td>Test_1803</td>\n",
              "      <td>7.538219e-05</td>\n",
              "      <td>2.899271e-01</td>\n",
              "      <td>0.709962</td>\n",
              "      <td>3.550008e-05</td>\n",
              "    </tr>\n",
              "    <tr>\n",
              "      <th>1804</th>\n",
              "      <td>Test_1804</td>\n",
              "      <td>1.463808e-07</td>\n",
              "      <td>1.646978e-04</td>\n",
              "      <td>0.999835</td>\n",
              "      <td>1.676867e-07</td>\n",
              "    </tr>\n",
              "    <tr>\n",
              "      <th>1805</th>\n",
              "      <td>Test_1805</td>\n",
              "      <td>9.997002e-01</td>\n",
              "      <td>2.547539e-05</td>\n",
              "      <td>0.000036</td>\n",
              "      <td>2.379707e-04</td>\n",
              "    </tr>\n",
              "    <tr>\n",
              "      <th>1806</th>\n",
              "      <td>Test_1806</td>\n",
              "      <td>2.724411e-06</td>\n",
              "      <td>4.310298e-02</td>\n",
              "      <td>0.000001</td>\n",
              "      <td>9.568929e-01</td>\n",
              "    </tr>\n",
              "    <tr>\n",
              "      <th>1807</th>\n",
              "      <td>Test_1807</td>\n",
              "      <td>2.978337e-01</td>\n",
              "      <td>3.846066e-04</td>\n",
              "      <td>0.000836</td>\n",
              "      <td>7.009460e-01</td>\n",
              "    </tr>\n",
              "    <tr>\n",
              "      <th>1808</th>\n",
              "      <td>Test_1808</td>\n",
              "      <td>4.084393e-04</td>\n",
              "      <td>9.701623e-04</td>\n",
              "      <td>0.000018</td>\n",
              "      <td>9.986038e-01</td>\n",
              "    </tr>\n",
              "    <tr>\n",
              "      <th>1809</th>\n",
              "      <td>Test_1809</td>\n",
              "      <td>9.999902e-01</td>\n",
              "      <td>9.310257e-08</td>\n",
              "      <td>0.000008</td>\n",
              "      <td>1.497980e-06</td>\n",
              "    </tr>\n",
              "    <tr>\n",
              "      <th>1810</th>\n",
              "      <td>Test_1810</td>\n",
              "      <td>8.803626e-06</td>\n",
              "      <td>1.890447e-02</td>\n",
              "      <td>0.981045</td>\n",
              "      <td>4.155306e-05</td>\n",
              "    </tr>\n",
              "    <tr>\n",
              "      <th>1811</th>\n",
              "      <td>Test_1811</td>\n",
              "      <td>1.724066e-01</td>\n",
              "      <td>5.480018e-02</td>\n",
              "      <td>0.147713</td>\n",
              "      <td>6.250800e-01</td>\n",
              "    </tr>\n",
              "    <tr>\n",
              "      <th>1812</th>\n",
              "      <td>Test_1812</td>\n",
              "      <td>1.267963e-10</td>\n",
              "      <td>1.114296e-04</td>\n",
              "      <td>0.999889</td>\n",
              "      <td>1.661071e-09</td>\n",
              "    </tr>\n",
              "    <tr>\n",
              "      <th>1813</th>\n",
              "      <td>Test_1813</td>\n",
              "      <td>8.798875e-06</td>\n",
              "      <td>1.396599e-04</td>\n",
              "      <td>0.000003</td>\n",
              "      <td>9.998480e-01</td>\n",
              "    </tr>\n",
              "    <tr>\n",
              "      <th>1814</th>\n",
              "      <td>Test_1814</td>\n",
              "      <td>2.049279e-07</td>\n",
              "      <td>9.999775e-01</td>\n",
              "      <td>0.000020</td>\n",
              "      <td>1.872270e-06</td>\n",
              "    </tr>\n",
              "    <tr>\n",
              "      <th>1815</th>\n",
              "      <td>Test_1815</td>\n",
              "      <td>5.025161e-06</td>\n",
              "      <td>1.311475e-04</td>\n",
              "      <td>0.999864</td>\n",
              "      <td>4.128879e-08</td>\n",
              "    </tr>\n",
              "    <tr>\n",
              "      <th>1816</th>\n",
              "      <td>Test_1816</td>\n",
              "      <td>8.130539e-09</td>\n",
              "      <td>5.432785e-04</td>\n",
              "      <td>0.999457</td>\n",
              "      <td>5.987278e-09</td>\n",
              "    </tr>\n",
              "    <tr>\n",
              "      <th>1817</th>\n",
              "      <td>Test_1817</td>\n",
              "      <td>6.037274e-05</td>\n",
              "      <td>1.326406e-02</td>\n",
              "      <td>0.000035</td>\n",
              "      <td>9.866410e-01</td>\n",
              "    </tr>\n",
              "    <tr>\n",
              "      <th>1818</th>\n",
              "      <td>Test_1818</td>\n",
              "      <td>1.438128e-05</td>\n",
              "      <td>3.419201e-04</td>\n",
              "      <td>0.999618</td>\n",
              "      <td>2.564760e-05</td>\n",
              "    </tr>\n",
              "    <tr>\n",
              "      <th>1819</th>\n",
              "      <td>Test_1819</td>\n",
              "      <td>9.997465e-01</td>\n",
              "      <td>6.790596e-06</td>\n",
              "      <td>0.000040</td>\n",
              "      <td>2.063270e-04</td>\n",
              "    </tr>\n",
              "    <tr>\n",
              "      <th>1820</th>\n",
              "      <td>Test_1820</td>\n",
              "      <td>3.553929e-05</td>\n",
              "      <td>3.244337e-01</td>\n",
              "      <td>0.000051</td>\n",
              "      <td>6.754801e-01</td>\n",
              "    </tr>\n",
              "  </tbody>\n",
              "</table>\n",
              "<p>1821 rows × 5 columns</p>\n",
              "</div>"
            ],
            "text/plain": [
              "       image_id       healthy  multiple_diseases      rust          scab\n",
              "0        Test_0  9.243853e-07       5.555455e-04  0.999443  7.629882e-07\n",
              "1        Test_1  3.698172e-05       8.779310e-01  0.121987  4.461165e-05\n",
              "2        Test_2  4.962352e-06       2.847890e-05  0.000003  9.999637e-01\n",
              "3        Test_3  9.970944e-01       4.001876e-05  0.000061  2.804414e-03\n",
              "4        Test_4  1.554126e-09       3.725971e-02  0.962740  2.225596e-08\n",
              "5        Test_5  9.984550e-01       3.116869e-05  0.000134  1.380276e-03\n",
              "6        Test_6  9.997728e-01       4.894445e-06  0.000026  1.959526e-04\n",
              "7        Test_7  1.658546e-06       1.208318e-05  0.000002  9.999846e-01\n",
              "8        Test_8  5.526380e-05       3.202622e-03  0.000006  9.967361e-01\n",
              "9        Test_9  3.207231e-08       5.223497e-05  0.999948  2.312566e-08\n",
              "10      Test_10  6.462888e-08       2.772439e-02  0.972275  9.928032e-08\n",
              "11      Test_11  9.955438e-01       1.446092e-04  0.000323  3.988982e-03\n",
              "12      Test_12  1.493843e-01       1.201755e-03  0.000335  8.490789e-01\n",
              "13      Test_13  9.079987e-01       6.396176e-02  0.025303  2.736444e-03\n",
              "14      Test_14  6.249231e-08       2.255886e-02  0.977440  1.110245e-06\n",
              "15      Test_15  7.904698e-05       1.765454e-04  0.999719  2.497340e-05\n",
              "16      Test_16  9.994580e-01       1.207581e-05  0.000517  1.324107e-05\n",
              "17      Test_17  5.971567e-06       1.438652e-01  0.000001  8.561275e-01\n",
              "18      Test_18  7.694774e-03       2.031213e-03  0.000041  9.902331e-01\n",
              "19      Test_19  1.605492e-11       1.042248e-03  0.998958  5.013583e-11\n",
              "20      Test_20  6.291312e-06       2.163649e-03  0.000003  9.978273e-01\n",
              "21      Test_21  9.991190e-01       6.505940e-07  0.000126  7.547776e-04\n",
              "22      Test_22  1.456282e-08       4.335751e-01  0.566424  7.417601e-07\n",
              "23      Test_23  9.137955e-04       2.121766e-02  0.008626  9.692430e-01\n",
              "24      Test_24  9.893631e-01       1.629725e-04  0.000101  1.037270e-02\n",
              "25      Test_25  1.022873e-04       2.735871e-06  0.000016  9.998787e-01\n",
              "26      Test_26  1.665639e-01       1.447462e-04  0.000523  8.327681e-01\n",
              "27      Test_27  2.740353e-08       4.892963e-04  0.999511  1.662796e-08\n",
              "28      Test_28  9.995296e-01       1.345695e-04  0.000026  3.097924e-04\n",
              "29      Test_29  3.009454e-05       9.602403e-01  0.036806  2.923444e-03\n",
              "...         ...           ...                ...       ...           ...\n",
              "1791  Test_1791  9.979911e-01       1.775357e-06  0.000121  1.885901e-03\n",
              "1792  Test_1792  2.418579e-06       9.506565e-03  0.990478  1.333741e-05\n",
              "1793  Test_1793  5.725550e-08       6.411319e-01  0.358865  3.300467e-06\n",
              "1794  Test_1794  8.985379e-09       1.281875e-03  0.998718  5.992318e-08\n",
              "1795  Test_1795  8.284093e-01       8.356963e-05  0.000397  1.711105e-01\n",
              "1796  Test_1796  1.757767e-07       2.687977e-02  0.973118  1.722464e-06\n",
              "1797  Test_1797  1.717177e-04       8.691670e-01  0.124496  6.165490e-03\n",
              "1798  Test_1798  9.998999e-01       9.866759e-07  0.000034  6.502026e-05\n",
              "1799  Test_1799  2.184406e-05       6.760860e-04  0.000015  9.992872e-01\n",
              "1800  Test_1800  9.477394e-01       7.713889e-04  0.000121  5.136806e-02\n",
              "1801  Test_1801  4.017865e-04       2.333600e-03  0.000005  9.972598e-01\n",
              "1802  Test_1802  1.029442e-09       1.348992e-06  0.999999  5.197716e-10\n",
              "1803  Test_1803  7.538219e-05       2.899271e-01  0.709962  3.550008e-05\n",
              "1804  Test_1804  1.463808e-07       1.646978e-04  0.999835  1.676867e-07\n",
              "1805  Test_1805  9.997002e-01       2.547539e-05  0.000036  2.379707e-04\n",
              "1806  Test_1806  2.724411e-06       4.310298e-02  0.000001  9.568929e-01\n",
              "1807  Test_1807  2.978337e-01       3.846066e-04  0.000836  7.009460e-01\n",
              "1808  Test_1808  4.084393e-04       9.701623e-04  0.000018  9.986038e-01\n",
              "1809  Test_1809  9.999902e-01       9.310257e-08  0.000008  1.497980e-06\n",
              "1810  Test_1810  8.803626e-06       1.890447e-02  0.981045  4.155306e-05\n",
              "1811  Test_1811  1.724066e-01       5.480018e-02  0.147713  6.250800e-01\n",
              "1812  Test_1812  1.267963e-10       1.114296e-04  0.999889  1.661071e-09\n",
              "1813  Test_1813  8.798875e-06       1.396599e-04  0.000003  9.998480e-01\n",
              "1814  Test_1814  2.049279e-07       9.999775e-01  0.000020  1.872270e-06\n",
              "1815  Test_1815  5.025161e-06       1.311475e-04  0.999864  4.128879e-08\n",
              "1816  Test_1816  8.130539e-09       5.432785e-04  0.999457  5.987278e-09\n",
              "1817  Test_1817  6.037274e-05       1.326406e-02  0.000035  9.866410e-01\n",
              "1818  Test_1818  1.438128e-05       3.419201e-04  0.999618  2.564760e-05\n",
              "1819  Test_1819  9.997465e-01       6.790596e-06  0.000040  2.063270e-04\n",
              "1820  Test_1820  3.553929e-05       3.244337e-01  0.000051  6.754801e-01\n",
              "\n",
              "[1821 rows x 5 columns]"
            ]
          },
          "metadata": {
            "tags": []
          },
          "execution_count": 26
        }
      ]
    },
    {
      "cell_type": "code",
      "metadata": {
        "id": "fkWXZgKRkDla"
      },
      "source": [
        "my_test_csv1.to_csv('predicted_test_csv.csv',index=False)"
      ],
      "execution_count": null,
      "outputs": []
    },
    {
      "cell_type": "code",
      "metadata": {
        "id": "bBmOuBiSkDld"
      },
      "source": [
        "model_ft=model_ft.to(\"cpu\")"
      ],
      "execution_count": null,
      "outputs": []
    },
    {
      "cell_type": "code",
      "metadata": {
        "id": "eaUZvvi5kDli"
      },
      "source": [
        "batch=batch.unsqueeze(dim=0)"
      ],
      "execution_count": null,
      "outputs": []
    },
    {
      "cell_type": "code",
      "metadata": {
        "id": "3x7VLNcgkDln"
      },
      "source": [
        "pred=model_ft(batch.to(\"cpu\"))"
      ],
      "execution_count": null,
      "outputs": []
    },
    {
      "cell_type": "code",
      "metadata": {
        "id": "89rvmZM0kDlq",
        "outputId": "976b2fd4-abf3-450a-ef0a-d1ecf8c4fe3c"
      },
      "source": [
        "pred.shape"
      ],
      "execution_count": null,
      "outputs": [
        {
          "output_type": "execute_result",
          "data": {
            "text/plain": [
              "torch.Size([16, 4])"
            ]
          },
          "metadata": {
            "tags": []
          },
          "execution_count": 32
        }
      ]
    },
    {
      "cell_type": "code",
      "metadata": {
        "id": "hijQKz_GkDlx"
      },
      "source": [
        ""
      ],
      "execution_count": null,
      "outputs": []
    }
  ]
}