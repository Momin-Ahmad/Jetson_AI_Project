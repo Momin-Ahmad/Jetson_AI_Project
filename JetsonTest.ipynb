{
  "nbformat": 4,
  "nbformat_minor": 0,
  "metadata": {
    "colab": {
      "name": "JetsonTest.ipynb",
      "provenance": [],
      "collapsed_sections": []
    },
    "kernelspec": {
      "name": "python3",
      "display_name": "Python 3"
    },
    "accelerator": "GPU",
    "widgets": {
      "application/vnd.jupyter.widget-state+json": {
        "a60601fd26274d43a6f7888ebbfbd092": {
          "model_module": "@jupyter-widgets/controls",
          "model_name": "HBoxModel",
          "state": {
            "_view_name": "HBoxView",
            "_dom_classes": [],
            "_model_name": "HBoxModel",
            "_view_module": "@jupyter-widgets/controls",
            "_model_module_version": "1.5.0",
            "_view_count": null,
            "_view_module_version": "1.5.0",
            "box_style": "",
            "layout": "IPY_MODEL_dab371b414784aceb257e203cabee47a",
            "_model_module": "@jupyter-widgets/controls",
            "children": [
              "IPY_MODEL_2405ef4c0fce4de1a7ab59e5d18244eb",
              "IPY_MODEL_17058b538d0047aab9fcf332faaa5037"
            ]
          }
        },
        "dab371b414784aceb257e203cabee47a": {
          "model_module": "@jupyter-widgets/base",
          "model_name": "LayoutModel",
          "state": {
            "_view_name": "LayoutView",
            "grid_template_rows": null,
            "right": null,
            "justify_content": null,
            "_view_module": "@jupyter-widgets/base",
            "overflow": null,
            "_model_module_version": "1.2.0",
            "_view_count": null,
            "flex_flow": null,
            "width": null,
            "min_width": null,
            "border": null,
            "align_items": null,
            "bottom": null,
            "_model_module": "@jupyter-widgets/base",
            "top": null,
            "grid_column": null,
            "overflow_y": null,
            "overflow_x": null,
            "grid_auto_flow": null,
            "grid_area": null,
            "grid_template_columns": null,
            "flex": null,
            "_model_name": "LayoutModel",
            "justify_items": null,
            "grid_row": null,
            "max_height": null,
            "align_content": null,
            "visibility": null,
            "align_self": null,
            "height": null,
            "min_height": null,
            "padding": null,
            "grid_auto_rows": null,
            "grid_gap": null,
            "max_width": null,
            "order": null,
            "_view_module_version": "1.2.0",
            "grid_template_areas": null,
            "object_position": null,
            "object_fit": null,
            "grid_auto_columns": null,
            "margin": null,
            "display": null,
            "left": null
          }
        },
        "2405ef4c0fce4de1a7ab59e5d18244eb": {
          "model_module": "@jupyter-widgets/controls",
          "model_name": "FloatProgressModel",
          "state": {
            "_view_name": "ProgressView",
            "style": "IPY_MODEL_d8979d1a8dd44e24a563169aab691772",
            "_dom_classes": [],
            "description": "100%",
            "_model_name": "FloatProgressModel",
            "bar_style": "success",
            "max": 46827520,
            "_view_module": "@jupyter-widgets/controls",
            "_model_module_version": "1.5.0",
            "value": 46827520,
            "_view_count": null,
            "_view_module_version": "1.5.0",
            "orientation": "horizontal",
            "min": 0,
            "description_tooltip": null,
            "_model_module": "@jupyter-widgets/controls",
            "layout": "IPY_MODEL_04998e57e50745ea86c8a94a92123b9e"
          }
        },
        "17058b538d0047aab9fcf332faaa5037": {
          "model_module": "@jupyter-widgets/controls",
          "model_name": "HTMLModel",
          "state": {
            "_view_name": "HTMLView",
            "style": "IPY_MODEL_3f968e721a5d44d18456e08cae335110",
            "_dom_classes": [],
            "description": "",
            "_model_name": "HTMLModel",
            "placeholder": "​",
            "_view_module": "@jupyter-widgets/controls",
            "_model_module_version": "1.5.0",
            "value": " 44.7M/44.7M [13:15&lt;00:00, 58.9kB/s]",
            "_view_count": null,
            "_view_module_version": "1.5.0",
            "description_tooltip": null,
            "_model_module": "@jupyter-widgets/controls",
            "layout": "IPY_MODEL_221a683a74f446ec83b570f67bc67464"
          }
        },
        "d8979d1a8dd44e24a563169aab691772": {
          "model_module": "@jupyter-widgets/controls",
          "model_name": "ProgressStyleModel",
          "state": {
            "_view_name": "StyleView",
            "_model_name": "ProgressStyleModel",
            "description_width": "initial",
            "_view_module": "@jupyter-widgets/base",
            "_model_module_version": "1.5.0",
            "_view_count": null,
            "_view_module_version": "1.2.0",
            "bar_color": null,
            "_model_module": "@jupyter-widgets/controls"
          }
        },
        "04998e57e50745ea86c8a94a92123b9e": {
          "model_module": "@jupyter-widgets/base",
          "model_name": "LayoutModel",
          "state": {
            "_view_name": "LayoutView",
            "grid_template_rows": null,
            "right": null,
            "justify_content": null,
            "_view_module": "@jupyter-widgets/base",
            "overflow": null,
            "_model_module_version": "1.2.0",
            "_view_count": null,
            "flex_flow": null,
            "width": null,
            "min_width": null,
            "border": null,
            "align_items": null,
            "bottom": null,
            "_model_module": "@jupyter-widgets/base",
            "top": null,
            "grid_column": null,
            "overflow_y": null,
            "overflow_x": null,
            "grid_auto_flow": null,
            "grid_area": null,
            "grid_template_columns": null,
            "flex": null,
            "_model_name": "LayoutModel",
            "justify_items": null,
            "grid_row": null,
            "max_height": null,
            "align_content": null,
            "visibility": null,
            "align_self": null,
            "height": null,
            "min_height": null,
            "padding": null,
            "grid_auto_rows": null,
            "grid_gap": null,
            "max_width": null,
            "order": null,
            "_view_module_version": "1.2.0",
            "grid_template_areas": null,
            "object_position": null,
            "object_fit": null,
            "grid_auto_columns": null,
            "margin": null,
            "display": null,
            "left": null
          }
        },
        "3f968e721a5d44d18456e08cae335110": {
          "model_module": "@jupyter-widgets/controls",
          "model_name": "DescriptionStyleModel",
          "state": {
            "_view_name": "StyleView",
            "_model_name": "DescriptionStyleModel",
            "description_width": "",
            "_view_module": "@jupyter-widgets/base",
            "_model_module_version": "1.5.0",
            "_view_count": null,
            "_view_module_version": "1.2.0",
            "_model_module": "@jupyter-widgets/controls"
          }
        },
        "221a683a74f446ec83b570f67bc67464": {
          "model_module": "@jupyter-widgets/base",
          "model_name": "LayoutModel",
          "state": {
            "_view_name": "LayoutView",
            "grid_template_rows": null,
            "right": null,
            "justify_content": null,
            "_view_module": "@jupyter-widgets/base",
            "overflow": null,
            "_model_module_version": "1.2.0",
            "_view_count": null,
            "flex_flow": null,
            "width": null,
            "min_width": null,
            "border": null,
            "align_items": null,
            "bottom": null,
            "_model_module": "@jupyter-widgets/base",
            "top": null,
            "grid_column": null,
            "overflow_y": null,
            "overflow_x": null,
            "grid_auto_flow": null,
            "grid_area": null,
            "grid_template_columns": null,
            "flex": null,
            "_model_name": "LayoutModel",
            "justify_items": null,
            "grid_row": null,
            "max_height": null,
            "align_content": null,
            "visibility": null,
            "align_self": null,
            "height": null,
            "min_height": null,
            "padding": null,
            "grid_auto_rows": null,
            "grid_gap": null,
            "max_width": null,
            "order": null,
            "_view_module_version": "1.2.0",
            "grid_template_areas": null,
            "object_position": null,
            "object_fit": null,
            "grid_auto_columns": null,
            "margin": null,
            "display": null,
            "left": null
          }
        }
      }
    }
  },
  "cells": [
    {
      "cell_type": "code",
      "metadata": {
        "id": "53ZHY490mM4k"
      },
      "source": [
        "from __future__ import print_function, division\r\n",
        "\r\n",
        "import torch\r\n",
        "import torch.nn as nn\r\n",
        "import torch.optim as optim\r\n",
        "from torch.optim import lr_scheduler\r\n",
        "import numpy as np\r\n",
        "import torchvision\r\n",
        "from torchvision import datasets, models, transforms\r\n",
        "import matplotlib.pyplot as plt"
      ],
      "execution_count": null,
      "outputs": []
    },
    {
      "cell_type": "code",
      "metadata": {
        "colab": {
          "base_uri": "https://localhost:8080/"
        },
        "id": "RFABzDaJk69m",
        "outputId": "876c5088-4c14-42a1-834d-d37e76793397"
      },
      "source": [
        "from google.colab import drive, files\r\n",
        "drive.mount('/content/drive')"
      ],
      "execution_count": null,
      "outputs": [
        {
          "output_type": "stream",
          "text": [
            "Mounted at /content/drive\n"
          ],
          "name": "stdout"
        }
      ]
    },
    {
      "cell_type": "code",
      "metadata": {
        "colab": {
          "base_uri": "https://localhost:8080/",
          "height": 103,
          "referenced_widgets": [
            "a60601fd26274d43a6f7888ebbfbd092",
            "dab371b414784aceb257e203cabee47a",
            "2405ef4c0fce4de1a7ab59e5d18244eb",
            "17058b538d0047aab9fcf332faaa5037",
            "d8979d1a8dd44e24a563169aab691772",
            "04998e57e50745ea86c8a94a92123b9e",
            "3f968e721a5d44d18456e08cae335110",
            "221a683a74f446ec83b570f67bc67464"
          ]
        },
        "id": "A2AsMxq5mZEq",
        "outputId": "88f69cc4-8e5a-42bf-eb6b-21b8d09ca4cb"
      },
      "source": [
        "model_ft = models.resnet18(pretrained=True)\r\n",
        "num_ftrs = model_ft.fc.in_features\r\n",
        "model_ft.fc = nn.Linear(num_ftrs, 4)"
      ],
      "execution_count": null,
      "outputs": [
        {
          "output_type": "stream",
          "text": [
            "Downloading: \"https://download.pytorch.org/models/resnet18-5c106cde.pth\" to /root/.cache/torch/hub/checkpoints/resnet18-5c106cde.pth\n"
          ],
          "name": "stderr"
        },
        {
          "output_type": "display_data",
          "data": {
            "application/vnd.jupyter.widget-view+json": {
              "model_id": "a60601fd26274d43a6f7888ebbfbd092",
              "version_minor": 0,
              "version_major": 2
            },
            "text/plain": [
              "HBox(children=(FloatProgress(value=0.0, max=46827520.0), HTML(value='')))"
            ]
          },
          "metadata": {
            "tags": []
          }
        },
        {
          "output_type": "stream",
          "text": [
            "\n"
          ],
          "name": "stdout"
        }
      ]
    },
    {
      "cell_type": "code",
      "metadata": {
        "id": "etMcHXganAFT"
      },
      "source": [
        "device = torch.device(\"cuda:0\" if torch.cuda.is_available() else \"cpu\")"
      ],
      "execution_count": null,
      "outputs": []
    },
    {
      "cell_type": "code",
      "metadata": {
        "colab": {
          "base_uri": "https://localhost:8080/"
        },
        "id": "6R-BmFxCl7tB",
        "outputId": "12a9343d-3e1c-466e-dc53-817596f4e1d9"
      },
      "source": [
        "model_ft.load_state_dict(torch.load('/content/drive/MyDrive/Plant_Pathology/resnet18_f.pth'))"
      ],
      "execution_count": null,
      "outputs": [
        {
          "output_type": "execute_result",
          "data": {
            "text/plain": [
              "<All keys matched successfully>"
            ]
          },
          "metadata": {
            "tags": []
          },
          "execution_count": 5
        }
      ]
    },
    {
      "cell_type": "code",
      "metadata": {
        "id": "hZYLSJPlml2n"
      },
      "source": [
        "model_ft.eval()"
      ],
      "execution_count": null,
      "outputs": []
    },
    {
      "cell_type": "code",
      "metadata": {
        "id": "hrHnIpDpnfnp"
      },
      "source": [
        "class ppDataset(torch.utils.data.Dataset):\r\n",
        "    def __init__(self, df, image_dir, return_labels=False, transforms=None):\r\n",
        "        self.df = df\r\n",
        "        self.image_dir = image_dir\r\n",
        "        self.transforms = transforms\r\n",
        "        self.return_labels = return_labels\r\n",
        "        self.label_map = {'healthy':0, 'multiple_diseases':1, 'rust':2, 'scab':3}\r\n",
        "        self.label_map_reverse = {v:k for k,v in self.label_map.items()}\r\n",
        "        \r\n",
        "    def __len__(self):\r\n",
        "        return self.df.__len__()\r\n",
        "    \r\n",
        "    def __getitem__(self, idx):\r\n",
        "        image_path = self.image_dir + self.df.loc[idx, 'image_id'] + '.jpg'\r\n",
        "        image = Image.open(image_path).convert('RGB')\r\n",
        "        \r\n",
        "        if self.transforms:\r\n",
        "            image = self.transforms(image)\r\n",
        "\r\n",
        "        if self.return_labels:\r\n",
        "            # label = torch.tensor(self.df.loc[idx, ['healthy', 'multiple_diseases', 'rust', 'scab']]).unsqueeze(1)\r\n",
        "            label = torch.tensor(self.df.loc[idx, ['healthy', 'multiple_diseases', 'rust', 'scab']]).unsqueeze(-1)\r\n",
        "            return image, label, self.label_map_reverse[label.squeeze(1).numpy().argmax()]\r\n",
        "        else:\r\n",
        "            return image"
      ],
      "execution_count": null,
      "outputs": []
    },
    {
      "cell_type": "code",
      "metadata": {
        "id": "0OId4XdIo-yS"
      },
      "source": [
        "import pandas as pd\r\n",
        "te_df = pd.read_csv('/content/drive/My Drive/test.csv')"
      ],
      "execution_count": null,
      "outputs": []
    },
    {
      "cell_type": "code",
      "metadata": {
        "id": "njY1zQfbpLBY"
      },
      "source": [
        "data_transforms = {\r\n",
        "    'train': transforms.Compose([\r\n",
        "        transforms.Resize((512, 512)),\r\n",
        "        #transforms.RandomResizedCrop(224),\r\n",
        "        transforms.RandomHorizontalFlip(),\r\n",
        "        transforms.ToTensor(),\r\n",
        "        transforms.Normalize([0.485, 0.456, 0.406], [0.229, 0.224, 0.225])\r\n",
        "    ]),\r\n",
        "#     'val': transforms.Compose([\r\n",
        "#         transforms.Resize((224,224)),\r\n",
        "#         #transforms.CenterCrop(224),\r\n",
        "#         transforms.ToTensor(),\r\n",
        "#         transforms.Normalize([0.485, 0.456, 0.406], [0.229, 0.224, 0.225])\r\n",
        "#     ]),\r\n",
        "}"
      ],
      "execution_count": null,
      "outputs": []
    },
    {
      "cell_type": "code",
      "metadata": {
        "id": "xSdIym7VpBNb"
      },
      "source": [
        "te_dataset = ppDataset(te_df, '/content/drive/My Drive/Plant_Pathology/test/', return_labels = False, transforms = data_transforms['train'])\r\n"
      ],
      "execution_count": null,
      "outputs": []
    },
    {
      "cell_type": "code",
      "metadata": {
        "id": "AVHrhYG2pDyK"
      },
      "source": [
        "test_loader=torch.utils.data.DataLoader(te_dataset, batch_size=16,\r\n",
        "                                             shuffle=False, num_workers=16)"
      ],
      "execution_count": null,
      "outputs": []
    },
    {
      "cell_type": "code",
      "metadata": {
        "id": "CZ4Br6sVqZ_j"
      },
      "source": [
        "from PIL import Image"
      ],
      "execution_count": null,
      "outputs": []
    },
    {
      "cell_type": "code",
      "metadata": {
        "id": "qWgDm2WlpPif"
      },
      "source": [
        "def get_all_predictions(loaded_data,my_network):\r\n",
        "  my_network.to(device)\r\n",
        "  final_stacked_result=None\r\n",
        "  for batch in (loaded_data):\r\n",
        "    with torch.set_grad_enabled(False):\r\n",
        "         predictions=my_network(batch.to(device))\r\n",
        "         test_prediction=predictions.data.cpu()\r\n",
        "         if final_stacked_result is None:\r\n",
        "            final_stacked_result=test_prediction.data.cpu()\r\n",
        "         else:\r\n",
        "             final_stacked_result=torch.cat((final_stacked_result,test_prediction.data.cpu()),dim=0)\r\n",
        "  return final_stacked_result\r\n",
        "\r\n",
        "#calling the function \r\n",
        "my_predictions=get_all_predictions(test_loader,model_ft)"
      ],
      "execution_count": null,
      "outputs": []
    },
    {
      "cell_type": "code",
      "metadata": {
        "colab": {
          "base_uri": "https://localhost:8080/"
        },
        "id": "VCDtSxdPqXQ6",
        "outputId": "bb074e39-4377-4d79-d64c-47bc4b28a96c"
      },
      "source": [
        "my_predictions.shape"
      ],
      "execution_count": null,
      "outputs": [
        {
          "output_type": "execute_result",
          "data": {
            "text/plain": [
              "torch.Size([1821, 4])"
            ]
          },
          "metadata": {
            "tags": []
          },
          "execution_count": 18
        }
      ]
    },
    {
      "cell_type": "code",
      "metadata": {
        "colab": {
          "base_uri": "https://localhost:8080/"
        },
        "id": "0zJQwzXsrEvr",
        "outputId": "f83089b9-cfce-4515-d026-c6248cde9a7f"
      },
      "source": [
        "my_predictions[1]"
      ],
      "execution_count": null,
      "outputs": [
        {
          "output_type": "execute_result",
          "data": {
            "text/plain": [
              "tensor([-1.6185,  0.7734,  3.4438, -3.5662])"
            ]
          },
          "metadata": {
            "tags": []
          },
          "execution_count": 19
        }
      ]
    },
    {
      "cell_type": "code",
      "metadata": {
        "id": "2ryeEEXJsKwF"
      },
      "source": [
        "my_test_csv1=pd.read_csv('/content/test.csv')"
      ],
      "execution_count": null,
      "outputs": []
    },
    {
      "cell_type": "code",
      "metadata": {
        "id": "NLifDBT5sOS6"
      },
      "source": [
        "my_test_csv1['healthy']=np.array(my_predictions[:,0])\r\n",
        "my_test_csv1['multiple_diseases']=np.array(my_predictions[:,1])\r\n",
        "my_test_csv1['rust']=np.array(my_predictions[:,2])\r\n",
        "my_test_csv1['scab']=np.array(my_predictions[:,3])"
      ],
      "execution_count": null,
      "outputs": []
    },
    {
      "cell_type": "code",
      "metadata": {
        "id": "z6iRdN68sdqo"
      },
      "source": [
        "my_test_csv1.to_csv('predicted_test_csv.csv',index=False)"
      ],
      "execution_count": null,
      "outputs": []
    },
    {
      "cell_type": "code",
      "metadata": {
        "id": "8ZnIvhISsgkS"
      },
      "source": [
        ""
      ],
      "execution_count": null,
      "outputs": []
    }
  ]
}